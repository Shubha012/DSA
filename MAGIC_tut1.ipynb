{
  "nbformat": 4,
  "nbformat_minor": 0,
  "metadata": {
    "colab": {
      "provenance": [],
      "authorship_tag": "ABX9TyPcWmJBT8YTrdCirc5jCn0D",
      "include_colab_link": true
    },
    "kernelspec": {
      "name": "python3",
      "display_name": "Python 3"
    },
    "language_info": {
      "name": "python"
    }
  },
  "cells": [
    {
      "cell_type": "markdown",
      "metadata": {
        "id": "view-in-github",
        "colab_type": "text"
      },
      "source": [
        "<a href=\"https://colab.research.google.com/github/Shubha012/DSA/blob/main/MAGIC_tut1.ipynb\" target=\"_parent\"><img src=\"https://colab.research.google.com/assets/colab-badge.svg\" alt=\"Open In Colab\"/></a>"
      ]
    },
    {
      "cell_type": "code",
      "source": [
        "!git config --global github.user 'shubha012'"
      ],
      "metadata": {
        "id": "e0Zuu7UDSdpx"
      },
      "execution_count": 19,
      "outputs": []
    },
    {
      "cell_type": "code",
      "source": [
        "!git\n"
      ],
      "metadata": {
        "colab": {
          "base_uri": "https://localhost:8080/"
        },
        "id": "oB0zhZHHQrKl",
        "outputId": "d4cbc013-d310-49b9-8739-6d6f267aff12"
      },
      "execution_count": 20,
      "outputs": [
        {
          "output_type": "stream",
          "name": "stdout",
          "text": [
            "usage: git [--version] [--help] [-C <path>] [-c <name>=<value>]\n",
            "           [--exec-path[=<path>]] [--html-path] [--man-path] [--info-path]\n",
            "           [-p | --paginate | -P | --no-pager] [--no-replace-objects] [--bare]\n",
            "           [--git-dir=<path>] [--work-tree=<path>] [--namespace=<name>]\n",
            "           [--super-prefix=<path>] [--config-env=<name>=<envvar>]\n",
            "           <command> [<args>]\n",
            "\n",
            "These are common Git commands used in various situations:\n",
            "\n",
            "start a working area (see also: git help tutorial)\n",
            "   clone     Clone a repository into a new directory\n",
            "   init      Create an empty Git repository or reinitialize an existing one\n",
            "\n",
            "work on the current change (see also: git help everyday)\n",
            "   add       Add file contents to the index\n",
            "   mv        Move or rename a file, a directory, or a symlink\n",
            "   restore   Restore working tree files\n",
            "   rm        Remove files from the working tree and from the index\n",
            "\n",
            "examine the history and state (see also: git help revisions)\n",
            "   bisect    Use binary search to find the commit that introduced a bug\n",
            "   diff      Show changes between commits, commit and working tree, etc\n",
            "   grep      Print lines matching a pattern\n",
            "   log       Show commit logs\n",
            "   show      Show various types of objects\n",
            "   status    Show the working tree status\n",
            "\n",
            "grow, mark and tweak your common history\n",
            "   branch    List, create, or delete branches\n",
            "   commit    Record changes to the repository\n",
            "   merge     Join two or more development histories together\n",
            "   rebase    Reapply commits on top of another base tip\n",
            "   reset     Reset current HEAD to the specified state\n",
            "   switch    Switch branches\n",
            "   tag       Create, list, delete or verify a tag object signed with GPG\n",
            "\n",
            "collaborate (see also: git help workflows)\n",
            "   fetch     Download objects and refs from another repository\n",
            "   pull      Fetch from and integrate with another repository or a local branch\n",
            "   push      Update remote refs along with associated objects\n",
            "\n",
            "'git help -a' and 'git help -g' list available subcommands and some\n",
            "concept guides. See 'git help <command>' or 'git help <concept>'\n",
            "to read about a specific subcommand or concept.\n",
            "See 'git help git' for an overview of the system.\n"
          ]
        }
      ]
    },
    {
      "cell_type": "code",
      "source": [
        "! git init\n"
      ],
      "metadata": {
        "colab": {
          "base_uri": "https://localhost:8080/"
        },
        "id": "6GqikPcLQzjn",
        "outputId": "fbe99c48-7314-4eae-870a-d50b20741423"
      },
      "execution_count": 21,
      "outputs": [
        {
          "output_type": "stream",
          "name": "stdout",
          "text": [
            "Reinitialized existing Git repository in /content/.git/\n"
          ]
        }
      ]
    },
    {
      "cell_type": "code",
      "source": [
        "!git add ."
      ],
      "metadata": {
        "id": "nRqUEjR5Q5xj"
      },
      "execution_count": 22,
      "outputs": []
    },
    {
      "cell_type": "code",
      "source": [
        "!git config --global user.email \"shubha126bteceai22@igdtuw.ac.in\"\n",
        "!git config --global user.name \"Shubha\""
      ],
      "metadata": {
        "id": "YNc5mf2nRIxY"
      },
      "execution_count": 23,
      "outputs": []
    },
    {
      "cell_type": "code",
      "source": [
        "!git commit -m 'first commit'"
      ],
      "metadata": {
        "colab": {
          "base_uri": "https://localhost:8080/"
        },
        "id": "EmvS8ndzRALn",
        "outputId": "8c55087e-084e-4563-cd5c-0b8defc312f1"
      },
      "execution_count": 24,
      "outputs": [
        {
          "output_type": "stream",
          "name": "stdout",
          "text": [
            "On branch main\n",
            "nothing to commit, working tree clean\n"
          ]
        }
      ]
    },
    {
      "cell_type": "code",
      "source": [
        "!git branch -m main"
      ],
      "metadata": {
        "id": "qxu2KMb5RVd6"
      },
      "execution_count": 25,
      "outputs": []
    },
    {
      "cell_type": "code",
      "source": [
        "!git remote add origin https://github.com/Shubha012/magic.git"
      ],
      "metadata": {
        "colab": {
          "base_uri": "https://localhost:8080/"
        },
        "id": "W6KYpTj0RYp9",
        "outputId": "d206b32e-c9bb-43ef-eb3d-7a08bea160ce"
      },
      "execution_count": 26,
      "outputs": [
        {
          "output_type": "stream",
          "name": "stdout",
          "text": [
            "error: remote origin already exists.\n"
          ]
        }
      ]
    },
    {
      "cell_type": "code",
      "source": [
        "!git push --set-upstream origin main"
      ],
      "metadata": {
        "colab": {
          "base_uri": "https://localhost:8080/"
        },
        "id": "31bC82bRRjf4",
        "outputId": "8cd9c2fb-430b-436f-e68b-faed366a2e31"
      },
      "execution_count": 28,
      "outputs": [
        {
          "output_type": "stream",
          "name": "stdout",
          "text": [
            "fatal: could not read Username for 'https://github.com': No such device or address\n"
          ]
        }
      ]
    },
    {
      "cell_type": "code",
      "source": [
        "\n",
        "!git push -u origin"
      ],
      "metadata": {
        "colab": {
          "base_uri": "https://localhost:8080/"
        },
        "id": "1xGGb-UuRfKp",
        "outputId": "83873ec9-549f-4f3d-e86f-34f5506c3769"
      },
      "execution_count": 29,
      "outputs": [
        {
          "output_type": "stream",
          "name": "stdout",
          "text": [
            "fatal: The current branch main has no upstream branch.\n",
            "To push the current branch and set the remote as upstream, use\n",
            "\n",
            "    git push --set-upstream origin main\n",
            "\n"
          ]
        }
      ]
    },
    {
      "cell_type": "code",
      "execution_count": null,
      "metadata": {
        "id": "EMyE7s7HkRxB"
      },
      "outputs": [],
      "source": [
        "## importing libraries\n",
        "import numpy as np\n",
        "import pandas as pd\n",
        "import matplotlib.pyplot as plt\n",
        "from sklearn.preprocessing import StandardScaler\n",
        "from imblearn.over_sampling import RandomOverSampler"
      ]
    },
    {
      "cell_type": "markdown",
      "source": [
        "UCI machine learning repository -- website having lots of data along with its information. https://archive.ics.uci.edu/datasets .\n",
        "\n",
        "In this code using Magic_gaama_telescope dataset\n",
        "2 particles are used - gamma, hydron"
      ],
      "metadata": {
        "id": "tSMchGL_lerf"
      }
    },
    {
      "cell_type": "code",
      "source": [
        "pd.read_csv(\"magic04.data\")\n",
        "## no labels are there. Therefore asign labels in this from the website."
      ],
      "metadata": {
        "colab": {
          "base_uri": "https://localhost:8080/",
          "height": 423
        },
        "id": "3lzOgRNylXN_",
        "outputId": "b24dc857-6084-45a5-97a6-b5b57901e020"
      },
      "execution_count": null,
      "outputs": [
        {
          "output_type": "execute_result",
          "data": {
            "text/plain": [
              "        28.7967   16.0021  2.6449  0.3918  0.1982   27.7004    22.011  \\\n",
              "0       31.6036   11.7235  2.5185  0.5303  0.3773   26.2722   23.8238   \n",
              "1      162.0520  136.0310  4.0612  0.0374  0.0187  116.7410  -64.8580   \n",
              "2       23.8172    9.5728  2.3385  0.6147  0.3922   27.2107   -6.4633   \n",
              "3       75.1362   30.9205  3.1611  0.3168  0.1832   -5.5277   28.5525   \n",
              "4       51.6240   21.1502  2.9085  0.2420  0.1340   50.8761   43.1887   \n",
              "...         ...       ...     ...     ...     ...       ...       ...   \n",
              "19014   21.3846   10.9170  2.6161  0.5857  0.3934   15.2618   11.5245   \n",
              "19015   28.9452    6.7020  2.2672  0.5351  0.2784   37.0816   13.1853   \n",
              "19016   75.4455   47.5305  3.4483  0.1417  0.0549   -9.3561   41.0562   \n",
              "19017  120.5135   76.9018  3.9939  0.0944  0.0683    5.8043  -93.5224   \n",
              "19018  187.1814   53.0014  3.2093  0.2876  0.1539 -167.3125 -168.4558   \n",
              "\n",
              "       -8.2027   40.092   81.8828  g  \n",
              "0      -9.9574   6.3609  205.2610  g  \n",
              "1     -45.2160  76.9600  256.7880  g  \n",
              "2      -7.1513  10.4490  116.7370  g  \n",
              "3      21.8393   4.6480  356.4620  g  \n",
              "4       9.8145   3.6130  238.0980  g  \n",
              "...        ...      ...       ... ..  \n",
              "19014   2.8766   2.4229  106.8258  h  \n",
              "19015  -2.9632  86.7975  247.4560  h  \n",
              "19016  -9.4662  30.2987  256.5166  h  \n",
              "19017 -63.8389  84.6874  408.3166  h  \n",
              "19018  31.4755  52.7310  272.3174  h  \n",
              "\n",
              "[19019 rows x 11 columns]"
            ],
            "text/html": [
              "\n",
              "  <div id=\"df-410a4263-1fda-426b-ae1c-fff84a73b988\" class=\"colab-df-container\">\n",
              "    <div>\n",
              "<style scoped>\n",
              "    .dataframe tbody tr th:only-of-type {\n",
              "        vertical-align: middle;\n",
              "    }\n",
              "\n",
              "    .dataframe tbody tr th {\n",
              "        vertical-align: top;\n",
              "    }\n",
              "\n",
              "    .dataframe thead th {\n",
              "        text-align: right;\n",
              "    }\n",
              "</style>\n",
              "<table border=\"1\" class=\"dataframe\">\n",
              "  <thead>\n",
              "    <tr style=\"text-align: right;\">\n",
              "      <th></th>\n",
              "      <th>28.7967</th>\n",
              "      <th>16.0021</th>\n",
              "      <th>2.6449</th>\n",
              "      <th>0.3918</th>\n",
              "      <th>0.1982</th>\n",
              "      <th>27.7004</th>\n",
              "      <th>22.011</th>\n",
              "      <th>-8.2027</th>\n",
              "      <th>40.092</th>\n",
              "      <th>81.8828</th>\n",
              "      <th>g</th>\n",
              "    </tr>\n",
              "  </thead>\n",
              "  <tbody>\n",
              "    <tr>\n",
              "      <th>0</th>\n",
              "      <td>31.6036</td>\n",
              "      <td>11.7235</td>\n",
              "      <td>2.5185</td>\n",
              "      <td>0.5303</td>\n",
              "      <td>0.3773</td>\n",
              "      <td>26.2722</td>\n",
              "      <td>23.8238</td>\n",
              "      <td>-9.9574</td>\n",
              "      <td>6.3609</td>\n",
              "      <td>205.2610</td>\n",
              "      <td>g</td>\n",
              "    </tr>\n",
              "    <tr>\n",
              "      <th>1</th>\n",
              "      <td>162.0520</td>\n",
              "      <td>136.0310</td>\n",
              "      <td>4.0612</td>\n",
              "      <td>0.0374</td>\n",
              "      <td>0.0187</td>\n",
              "      <td>116.7410</td>\n",
              "      <td>-64.8580</td>\n",
              "      <td>-45.2160</td>\n",
              "      <td>76.9600</td>\n",
              "      <td>256.7880</td>\n",
              "      <td>g</td>\n",
              "    </tr>\n",
              "    <tr>\n",
              "      <th>2</th>\n",
              "      <td>23.8172</td>\n",
              "      <td>9.5728</td>\n",
              "      <td>2.3385</td>\n",
              "      <td>0.6147</td>\n",
              "      <td>0.3922</td>\n",
              "      <td>27.2107</td>\n",
              "      <td>-6.4633</td>\n",
              "      <td>-7.1513</td>\n",
              "      <td>10.4490</td>\n",
              "      <td>116.7370</td>\n",
              "      <td>g</td>\n",
              "    </tr>\n",
              "    <tr>\n",
              "      <th>3</th>\n",
              "      <td>75.1362</td>\n",
              "      <td>30.9205</td>\n",
              "      <td>3.1611</td>\n",
              "      <td>0.3168</td>\n",
              "      <td>0.1832</td>\n",
              "      <td>-5.5277</td>\n",
              "      <td>28.5525</td>\n",
              "      <td>21.8393</td>\n",
              "      <td>4.6480</td>\n",
              "      <td>356.4620</td>\n",
              "      <td>g</td>\n",
              "    </tr>\n",
              "    <tr>\n",
              "      <th>4</th>\n",
              "      <td>51.6240</td>\n",
              "      <td>21.1502</td>\n",
              "      <td>2.9085</td>\n",
              "      <td>0.2420</td>\n",
              "      <td>0.1340</td>\n",
              "      <td>50.8761</td>\n",
              "      <td>43.1887</td>\n",
              "      <td>9.8145</td>\n",
              "      <td>3.6130</td>\n",
              "      <td>238.0980</td>\n",
              "      <td>g</td>\n",
              "    </tr>\n",
              "    <tr>\n",
              "      <th>...</th>\n",
              "      <td>...</td>\n",
              "      <td>...</td>\n",
              "      <td>...</td>\n",
              "      <td>...</td>\n",
              "      <td>...</td>\n",
              "      <td>...</td>\n",
              "      <td>...</td>\n",
              "      <td>...</td>\n",
              "      <td>...</td>\n",
              "      <td>...</td>\n",
              "      <td>...</td>\n",
              "    </tr>\n",
              "    <tr>\n",
              "      <th>19014</th>\n",
              "      <td>21.3846</td>\n",
              "      <td>10.9170</td>\n",
              "      <td>2.6161</td>\n",
              "      <td>0.5857</td>\n",
              "      <td>0.3934</td>\n",
              "      <td>15.2618</td>\n",
              "      <td>11.5245</td>\n",
              "      <td>2.8766</td>\n",
              "      <td>2.4229</td>\n",
              "      <td>106.8258</td>\n",
              "      <td>h</td>\n",
              "    </tr>\n",
              "    <tr>\n",
              "      <th>19015</th>\n",
              "      <td>28.9452</td>\n",
              "      <td>6.7020</td>\n",
              "      <td>2.2672</td>\n",
              "      <td>0.5351</td>\n",
              "      <td>0.2784</td>\n",
              "      <td>37.0816</td>\n",
              "      <td>13.1853</td>\n",
              "      <td>-2.9632</td>\n",
              "      <td>86.7975</td>\n",
              "      <td>247.4560</td>\n",
              "      <td>h</td>\n",
              "    </tr>\n",
              "    <tr>\n",
              "      <th>19016</th>\n",
              "      <td>75.4455</td>\n",
              "      <td>47.5305</td>\n",
              "      <td>3.4483</td>\n",
              "      <td>0.1417</td>\n",
              "      <td>0.0549</td>\n",
              "      <td>-9.3561</td>\n",
              "      <td>41.0562</td>\n",
              "      <td>-9.4662</td>\n",
              "      <td>30.2987</td>\n",
              "      <td>256.5166</td>\n",
              "      <td>h</td>\n",
              "    </tr>\n",
              "    <tr>\n",
              "      <th>19017</th>\n",
              "      <td>120.5135</td>\n",
              "      <td>76.9018</td>\n",
              "      <td>3.9939</td>\n",
              "      <td>0.0944</td>\n",
              "      <td>0.0683</td>\n",
              "      <td>5.8043</td>\n",
              "      <td>-93.5224</td>\n",
              "      <td>-63.8389</td>\n",
              "      <td>84.6874</td>\n",
              "      <td>408.3166</td>\n",
              "      <td>h</td>\n",
              "    </tr>\n",
              "    <tr>\n",
              "      <th>19018</th>\n",
              "      <td>187.1814</td>\n",
              "      <td>53.0014</td>\n",
              "      <td>3.2093</td>\n",
              "      <td>0.2876</td>\n",
              "      <td>0.1539</td>\n",
              "      <td>-167.3125</td>\n",
              "      <td>-168.4558</td>\n",
              "      <td>31.4755</td>\n",
              "      <td>52.7310</td>\n",
              "      <td>272.3174</td>\n",
              "      <td>h</td>\n",
              "    </tr>\n",
              "  </tbody>\n",
              "</table>\n",
              "<p>19019 rows × 11 columns</p>\n",
              "</div>\n",
              "    <div class=\"colab-df-buttons\">\n",
              "\n",
              "  <div class=\"colab-df-container\">\n",
              "    <button class=\"colab-df-convert\" onclick=\"convertToInteractive('df-410a4263-1fda-426b-ae1c-fff84a73b988')\"\n",
              "            title=\"Convert this dataframe to an interactive table.\"\n",
              "            style=\"display:none;\">\n",
              "\n",
              "  <svg xmlns=\"http://www.w3.org/2000/svg\" height=\"24px\" viewBox=\"0 -960 960 960\">\n",
              "    <path d=\"M120-120v-720h720v720H120Zm60-500h600v-160H180v160Zm220 220h160v-160H400v160Zm0 220h160v-160H400v160ZM180-400h160v-160H180v160Zm440 0h160v-160H620v160ZM180-180h160v-160H180v160Zm440 0h160v-160H620v160Z\"/>\n",
              "  </svg>\n",
              "    </button>\n",
              "\n",
              "  <style>\n",
              "    .colab-df-container {\n",
              "      display:flex;\n",
              "      gap: 12px;\n",
              "    }\n",
              "\n",
              "    .colab-df-convert {\n",
              "      background-color: #E8F0FE;\n",
              "      border: none;\n",
              "      border-radius: 50%;\n",
              "      cursor: pointer;\n",
              "      display: none;\n",
              "      fill: #1967D2;\n",
              "      height: 32px;\n",
              "      padding: 0 0 0 0;\n",
              "      width: 32px;\n",
              "    }\n",
              "\n",
              "    .colab-df-convert:hover {\n",
              "      background-color: #E2EBFA;\n",
              "      box-shadow: 0px 1px 2px rgba(60, 64, 67, 0.3), 0px 1px 3px 1px rgba(60, 64, 67, 0.15);\n",
              "      fill: #174EA6;\n",
              "    }\n",
              "\n",
              "    .colab-df-buttons div {\n",
              "      margin-bottom: 4px;\n",
              "    }\n",
              "\n",
              "    [theme=dark] .colab-df-convert {\n",
              "      background-color: #3B4455;\n",
              "      fill: #D2E3FC;\n",
              "    }\n",
              "\n",
              "    [theme=dark] .colab-df-convert:hover {\n",
              "      background-color: #434B5C;\n",
              "      box-shadow: 0px 1px 3px 1px rgba(0, 0, 0, 0.15);\n",
              "      filter: drop-shadow(0px 1px 2px rgba(0, 0, 0, 0.3));\n",
              "      fill: #FFFFFF;\n",
              "    }\n",
              "  </style>\n",
              "\n",
              "    <script>\n",
              "      const buttonEl =\n",
              "        document.querySelector('#df-410a4263-1fda-426b-ae1c-fff84a73b988 button.colab-df-convert');\n",
              "      buttonEl.style.display =\n",
              "        google.colab.kernel.accessAllowed ? 'block' : 'none';\n",
              "\n",
              "      async function convertToInteractive(key) {\n",
              "        const element = document.querySelector('#df-410a4263-1fda-426b-ae1c-fff84a73b988');\n",
              "        const dataTable =\n",
              "          await google.colab.kernel.invokeFunction('convertToInteractive',\n",
              "                                                    [key], {});\n",
              "        if (!dataTable) return;\n",
              "\n",
              "        const docLinkHtml = 'Like what you see? Visit the ' +\n",
              "          '<a target=\"_blank\" href=https://colab.research.google.com/notebooks/data_table.ipynb>data table notebook</a>'\n",
              "          + ' to learn more about interactive tables.';\n",
              "        element.innerHTML = '';\n",
              "        dataTable['output_type'] = 'display_data';\n",
              "        await google.colab.output.renderOutput(dataTable, element);\n",
              "        const docLink = document.createElement('div');\n",
              "        docLink.innerHTML = docLinkHtml;\n",
              "        element.appendChild(docLink);\n",
              "      }\n",
              "    </script>\n",
              "  </div>\n",
              "\n",
              "\n",
              "<div id=\"df-bbc3bdb9-4fc6-4342-a355-cd8ccc95a7fd\">\n",
              "  <button class=\"colab-df-quickchart\" onclick=\"quickchart('df-bbc3bdb9-4fc6-4342-a355-cd8ccc95a7fd')\"\n",
              "            title=\"Suggest charts\"\n",
              "            style=\"display:none;\">\n",
              "\n",
              "<svg xmlns=\"http://www.w3.org/2000/svg\" height=\"24px\"viewBox=\"0 0 24 24\"\n",
              "     width=\"24px\">\n",
              "    <g>\n",
              "        <path d=\"M19 3H5c-1.1 0-2 .9-2 2v14c0 1.1.9 2 2 2h14c1.1 0 2-.9 2-2V5c0-1.1-.9-2-2-2zM9 17H7v-7h2v7zm4 0h-2V7h2v10zm4 0h-2v-4h2v4z\"/>\n",
              "    </g>\n",
              "</svg>\n",
              "  </button>\n",
              "\n",
              "<style>\n",
              "  .colab-df-quickchart {\n",
              "      --bg-color: #E8F0FE;\n",
              "      --fill-color: #1967D2;\n",
              "      --hover-bg-color: #E2EBFA;\n",
              "      --hover-fill-color: #174EA6;\n",
              "      --disabled-fill-color: #AAA;\n",
              "      --disabled-bg-color: #DDD;\n",
              "  }\n",
              "\n",
              "  [theme=dark] .colab-df-quickchart {\n",
              "      --bg-color: #3B4455;\n",
              "      --fill-color: #D2E3FC;\n",
              "      --hover-bg-color: #434B5C;\n",
              "      --hover-fill-color: #FFFFFF;\n",
              "      --disabled-bg-color: #3B4455;\n",
              "      --disabled-fill-color: #666;\n",
              "  }\n",
              "\n",
              "  .colab-df-quickchart {\n",
              "    background-color: var(--bg-color);\n",
              "    border: none;\n",
              "    border-radius: 50%;\n",
              "    cursor: pointer;\n",
              "    display: none;\n",
              "    fill: var(--fill-color);\n",
              "    height: 32px;\n",
              "    padding: 0;\n",
              "    width: 32px;\n",
              "  }\n",
              "\n",
              "  .colab-df-quickchart:hover {\n",
              "    background-color: var(--hover-bg-color);\n",
              "    box-shadow: 0 1px 2px rgba(60, 64, 67, 0.3), 0 1px 3px 1px rgba(60, 64, 67, 0.15);\n",
              "    fill: var(--button-hover-fill-color);\n",
              "  }\n",
              "\n",
              "  .colab-df-quickchart-complete:disabled,\n",
              "  .colab-df-quickchart-complete:disabled:hover {\n",
              "    background-color: var(--disabled-bg-color);\n",
              "    fill: var(--disabled-fill-color);\n",
              "    box-shadow: none;\n",
              "  }\n",
              "\n",
              "  .colab-df-spinner {\n",
              "    border: 2px solid var(--fill-color);\n",
              "    border-color: transparent;\n",
              "    border-bottom-color: var(--fill-color);\n",
              "    animation:\n",
              "      spin 1s steps(1) infinite;\n",
              "  }\n",
              "\n",
              "  @keyframes spin {\n",
              "    0% {\n",
              "      border-color: transparent;\n",
              "      border-bottom-color: var(--fill-color);\n",
              "      border-left-color: var(--fill-color);\n",
              "    }\n",
              "    20% {\n",
              "      border-color: transparent;\n",
              "      border-left-color: var(--fill-color);\n",
              "      border-top-color: var(--fill-color);\n",
              "    }\n",
              "    30% {\n",
              "      border-color: transparent;\n",
              "      border-left-color: var(--fill-color);\n",
              "      border-top-color: var(--fill-color);\n",
              "      border-right-color: var(--fill-color);\n",
              "    }\n",
              "    40% {\n",
              "      border-color: transparent;\n",
              "      border-right-color: var(--fill-color);\n",
              "      border-top-color: var(--fill-color);\n",
              "    }\n",
              "    60% {\n",
              "      border-color: transparent;\n",
              "      border-right-color: var(--fill-color);\n",
              "    }\n",
              "    80% {\n",
              "      border-color: transparent;\n",
              "      border-right-color: var(--fill-color);\n",
              "      border-bottom-color: var(--fill-color);\n",
              "    }\n",
              "    90% {\n",
              "      border-color: transparent;\n",
              "      border-bottom-color: var(--fill-color);\n",
              "    }\n",
              "  }\n",
              "</style>\n",
              "\n",
              "  <script>\n",
              "    async function quickchart(key) {\n",
              "      const quickchartButtonEl =\n",
              "        document.querySelector('#' + key + ' button');\n",
              "      quickchartButtonEl.disabled = true;  // To prevent multiple clicks.\n",
              "      quickchartButtonEl.classList.add('colab-df-spinner');\n",
              "      try {\n",
              "        const charts = await google.colab.kernel.invokeFunction(\n",
              "            'suggestCharts', [key], {});\n",
              "      } catch (error) {\n",
              "        console.error('Error during call to suggestCharts:', error);\n",
              "      }\n",
              "      quickchartButtonEl.classList.remove('colab-df-spinner');\n",
              "      quickchartButtonEl.classList.add('colab-df-quickchart-complete');\n",
              "    }\n",
              "    (() => {\n",
              "      let quickchartButtonEl =\n",
              "        document.querySelector('#df-bbc3bdb9-4fc6-4342-a355-cd8ccc95a7fd button');\n",
              "      quickchartButtonEl.style.display =\n",
              "        google.colab.kernel.accessAllowed ? 'block' : 'none';\n",
              "    })();\n",
              "  </script>\n",
              "</div>\n",
              "    </div>\n",
              "  </div>\n"
            ]
          },
          "metadata": {},
          "execution_count": 2
        }
      ]
    },
    {
      "cell_type": "code",
      "source": [
        "## assigning labels in the columns\n",
        "col = ['fLength', 'fWidth', 'fSize', 'fConc', 'fConc1', 'fAsym', 'fM3Long', 'fM3Trans', 'fAlpha', 'fDist', 'class']\n",
        "df = pd.read_csv('magic04.data', names = col)\n",
        "df.head()"
      ],
      "metadata": {
        "colab": {
          "base_uri": "https://localhost:8080/",
          "height": 206
        },
        "id": "w8IliqLrmjVX",
        "outputId": "d4f65018-146f-4264-d3b7-37e320a58a4f"
      },
      "execution_count": null,
      "outputs": [
        {
          "output_type": "execute_result",
          "data": {
            "text/plain": [
              "    fLength    fWidth   fSize   fConc  fConc1     fAsym  fM3Long  fM3Trans  \\\n",
              "0   28.7967   16.0021  2.6449  0.3918  0.1982   27.7004  22.0110   -8.2027   \n",
              "1   31.6036   11.7235  2.5185  0.5303  0.3773   26.2722  23.8238   -9.9574   \n",
              "2  162.0520  136.0310  4.0612  0.0374  0.0187  116.7410 -64.8580  -45.2160   \n",
              "3   23.8172    9.5728  2.3385  0.6147  0.3922   27.2107  -6.4633   -7.1513   \n",
              "4   75.1362   30.9205  3.1611  0.3168  0.1832   -5.5277  28.5525   21.8393   \n",
              "\n",
              "    fAlpha     fDist class  \n",
              "0  40.0920   81.8828     g  \n",
              "1   6.3609  205.2610     g  \n",
              "2  76.9600  256.7880     g  \n",
              "3  10.4490  116.7370     g  \n",
              "4   4.6480  356.4620     g  "
            ],
            "text/html": [
              "\n",
              "  <div id=\"df-7216d210-71ea-4ccf-b6c9-5feb8b94830a\" class=\"colab-df-container\">\n",
              "    <div>\n",
              "<style scoped>\n",
              "    .dataframe tbody tr th:only-of-type {\n",
              "        vertical-align: middle;\n",
              "    }\n",
              "\n",
              "    .dataframe tbody tr th {\n",
              "        vertical-align: top;\n",
              "    }\n",
              "\n",
              "    .dataframe thead th {\n",
              "        text-align: right;\n",
              "    }\n",
              "</style>\n",
              "<table border=\"1\" class=\"dataframe\">\n",
              "  <thead>\n",
              "    <tr style=\"text-align: right;\">\n",
              "      <th></th>\n",
              "      <th>fLength</th>\n",
              "      <th>fWidth</th>\n",
              "      <th>fSize</th>\n",
              "      <th>fConc</th>\n",
              "      <th>fConc1</th>\n",
              "      <th>fAsym</th>\n",
              "      <th>fM3Long</th>\n",
              "      <th>fM3Trans</th>\n",
              "      <th>fAlpha</th>\n",
              "      <th>fDist</th>\n",
              "      <th>class</th>\n",
              "    </tr>\n",
              "  </thead>\n",
              "  <tbody>\n",
              "    <tr>\n",
              "      <th>0</th>\n",
              "      <td>28.7967</td>\n",
              "      <td>16.0021</td>\n",
              "      <td>2.6449</td>\n",
              "      <td>0.3918</td>\n",
              "      <td>0.1982</td>\n",
              "      <td>27.7004</td>\n",
              "      <td>22.0110</td>\n",
              "      <td>-8.2027</td>\n",
              "      <td>40.0920</td>\n",
              "      <td>81.8828</td>\n",
              "      <td>g</td>\n",
              "    </tr>\n",
              "    <tr>\n",
              "      <th>1</th>\n",
              "      <td>31.6036</td>\n",
              "      <td>11.7235</td>\n",
              "      <td>2.5185</td>\n",
              "      <td>0.5303</td>\n",
              "      <td>0.3773</td>\n",
              "      <td>26.2722</td>\n",
              "      <td>23.8238</td>\n",
              "      <td>-9.9574</td>\n",
              "      <td>6.3609</td>\n",
              "      <td>205.2610</td>\n",
              "      <td>g</td>\n",
              "    </tr>\n",
              "    <tr>\n",
              "      <th>2</th>\n",
              "      <td>162.0520</td>\n",
              "      <td>136.0310</td>\n",
              "      <td>4.0612</td>\n",
              "      <td>0.0374</td>\n",
              "      <td>0.0187</td>\n",
              "      <td>116.7410</td>\n",
              "      <td>-64.8580</td>\n",
              "      <td>-45.2160</td>\n",
              "      <td>76.9600</td>\n",
              "      <td>256.7880</td>\n",
              "      <td>g</td>\n",
              "    </tr>\n",
              "    <tr>\n",
              "      <th>3</th>\n",
              "      <td>23.8172</td>\n",
              "      <td>9.5728</td>\n",
              "      <td>2.3385</td>\n",
              "      <td>0.6147</td>\n",
              "      <td>0.3922</td>\n",
              "      <td>27.2107</td>\n",
              "      <td>-6.4633</td>\n",
              "      <td>-7.1513</td>\n",
              "      <td>10.4490</td>\n",
              "      <td>116.7370</td>\n",
              "      <td>g</td>\n",
              "    </tr>\n",
              "    <tr>\n",
              "      <th>4</th>\n",
              "      <td>75.1362</td>\n",
              "      <td>30.9205</td>\n",
              "      <td>3.1611</td>\n",
              "      <td>0.3168</td>\n",
              "      <td>0.1832</td>\n",
              "      <td>-5.5277</td>\n",
              "      <td>28.5525</td>\n",
              "      <td>21.8393</td>\n",
              "      <td>4.6480</td>\n",
              "      <td>356.4620</td>\n",
              "      <td>g</td>\n",
              "    </tr>\n",
              "  </tbody>\n",
              "</table>\n",
              "</div>\n",
              "    <div class=\"colab-df-buttons\">\n",
              "\n",
              "  <div class=\"colab-df-container\">\n",
              "    <button class=\"colab-df-convert\" onclick=\"convertToInteractive('df-7216d210-71ea-4ccf-b6c9-5feb8b94830a')\"\n",
              "            title=\"Convert this dataframe to an interactive table.\"\n",
              "            style=\"display:none;\">\n",
              "\n",
              "  <svg xmlns=\"http://www.w3.org/2000/svg\" height=\"24px\" viewBox=\"0 -960 960 960\">\n",
              "    <path d=\"M120-120v-720h720v720H120Zm60-500h600v-160H180v160Zm220 220h160v-160H400v160Zm0 220h160v-160H400v160ZM180-400h160v-160H180v160Zm440 0h160v-160H620v160ZM180-180h160v-160H180v160Zm440 0h160v-160H620v160Z\"/>\n",
              "  </svg>\n",
              "    </button>\n",
              "\n",
              "  <style>\n",
              "    .colab-df-container {\n",
              "      display:flex;\n",
              "      gap: 12px;\n",
              "    }\n",
              "\n",
              "    .colab-df-convert {\n",
              "      background-color: #E8F0FE;\n",
              "      border: none;\n",
              "      border-radius: 50%;\n",
              "      cursor: pointer;\n",
              "      display: none;\n",
              "      fill: #1967D2;\n",
              "      height: 32px;\n",
              "      padding: 0 0 0 0;\n",
              "      width: 32px;\n",
              "    }\n",
              "\n",
              "    .colab-df-convert:hover {\n",
              "      background-color: #E2EBFA;\n",
              "      box-shadow: 0px 1px 2px rgba(60, 64, 67, 0.3), 0px 1px 3px 1px rgba(60, 64, 67, 0.15);\n",
              "      fill: #174EA6;\n",
              "    }\n",
              "\n",
              "    .colab-df-buttons div {\n",
              "      margin-bottom: 4px;\n",
              "    }\n",
              "\n",
              "    [theme=dark] .colab-df-convert {\n",
              "      background-color: #3B4455;\n",
              "      fill: #D2E3FC;\n",
              "    }\n",
              "\n",
              "    [theme=dark] .colab-df-convert:hover {\n",
              "      background-color: #434B5C;\n",
              "      box-shadow: 0px 1px 3px 1px rgba(0, 0, 0, 0.15);\n",
              "      filter: drop-shadow(0px 1px 2px rgba(0, 0, 0, 0.3));\n",
              "      fill: #FFFFFF;\n",
              "    }\n",
              "  </style>\n",
              "\n",
              "    <script>\n",
              "      const buttonEl =\n",
              "        document.querySelector('#df-7216d210-71ea-4ccf-b6c9-5feb8b94830a button.colab-df-convert');\n",
              "      buttonEl.style.display =\n",
              "        google.colab.kernel.accessAllowed ? 'block' : 'none';\n",
              "\n",
              "      async function convertToInteractive(key) {\n",
              "        const element = document.querySelector('#df-7216d210-71ea-4ccf-b6c9-5feb8b94830a');\n",
              "        const dataTable =\n",
              "          await google.colab.kernel.invokeFunction('convertToInteractive',\n",
              "                                                    [key], {});\n",
              "        if (!dataTable) return;\n",
              "\n",
              "        const docLinkHtml = 'Like what you see? Visit the ' +\n",
              "          '<a target=\"_blank\" href=https://colab.research.google.com/notebooks/data_table.ipynb>data table notebook</a>'\n",
              "          + ' to learn more about interactive tables.';\n",
              "        element.innerHTML = '';\n",
              "        dataTable['output_type'] = 'display_data';\n",
              "        await google.colab.output.renderOutput(dataTable, element);\n",
              "        const docLink = document.createElement('div');\n",
              "        docLink.innerHTML = docLinkHtml;\n",
              "        element.appendChild(docLink);\n",
              "      }\n",
              "    </script>\n",
              "  </div>\n",
              "\n",
              "\n",
              "<div id=\"df-a9e00bfe-a67d-412f-90a3-85e9ee4c01c9\">\n",
              "  <button class=\"colab-df-quickchart\" onclick=\"quickchart('df-a9e00bfe-a67d-412f-90a3-85e9ee4c01c9')\"\n",
              "            title=\"Suggest charts\"\n",
              "            style=\"display:none;\">\n",
              "\n",
              "<svg xmlns=\"http://www.w3.org/2000/svg\" height=\"24px\"viewBox=\"0 0 24 24\"\n",
              "     width=\"24px\">\n",
              "    <g>\n",
              "        <path d=\"M19 3H5c-1.1 0-2 .9-2 2v14c0 1.1.9 2 2 2h14c1.1 0 2-.9 2-2V5c0-1.1-.9-2-2-2zM9 17H7v-7h2v7zm4 0h-2V7h2v10zm4 0h-2v-4h2v4z\"/>\n",
              "    </g>\n",
              "</svg>\n",
              "  </button>\n",
              "\n",
              "<style>\n",
              "  .colab-df-quickchart {\n",
              "      --bg-color: #E8F0FE;\n",
              "      --fill-color: #1967D2;\n",
              "      --hover-bg-color: #E2EBFA;\n",
              "      --hover-fill-color: #174EA6;\n",
              "      --disabled-fill-color: #AAA;\n",
              "      --disabled-bg-color: #DDD;\n",
              "  }\n",
              "\n",
              "  [theme=dark] .colab-df-quickchart {\n",
              "      --bg-color: #3B4455;\n",
              "      --fill-color: #D2E3FC;\n",
              "      --hover-bg-color: #434B5C;\n",
              "      --hover-fill-color: #FFFFFF;\n",
              "      --disabled-bg-color: #3B4455;\n",
              "      --disabled-fill-color: #666;\n",
              "  }\n",
              "\n",
              "  .colab-df-quickchart {\n",
              "    background-color: var(--bg-color);\n",
              "    border: none;\n",
              "    border-radius: 50%;\n",
              "    cursor: pointer;\n",
              "    display: none;\n",
              "    fill: var(--fill-color);\n",
              "    height: 32px;\n",
              "    padding: 0;\n",
              "    width: 32px;\n",
              "  }\n",
              "\n",
              "  .colab-df-quickchart:hover {\n",
              "    background-color: var(--hover-bg-color);\n",
              "    box-shadow: 0 1px 2px rgba(60, 64, 67, 0.3), 0 1px 3px 1px rgba(60, 64, 67, 0.15);\n",
              "    fill: var(--button-hover-fill-color);\n",
              "  }\n",
              "\n",
              "  .colab-df-quickchart-complete:disabled,\n",
              "  .colab-df-quickchart-complete:disabled:hover {\n",
              "    background-color: var(--disabled-bg-color);\n",
              "    fill: var(--disabled-fill-color);\n",
              "    box-shadow: none;\n",
              "  }\n",
              "\n",
              "  .colab-df-spinner {\n",
              "    border: 2px solid var(--fill-color);\n",
              "    border-color: transparent;\n",
              "    border-bottom-color: var(--fill-color);\n",
              "    animation:\n",
              "      spin 1s steps(1) infinite;\n",
              "  }\n",
              "\n",
              "  @keyframes spin {\n",
              "    0% {\n",
              "      border-color: transparent;\n",
              "      border-bottom-color: var(--fill-color);\n",
              "      border-left-color: var(--fill-color);\n",
              "    }\n",
              "    20% {\n",
              "      border-color: transparent;\n",
              "      border-left-color: var(--fill-color);\n",
              "      border-top-color: var(--fill-color);\n",
              "    }\n",
              "    30% {\n",
              "      border-color: transparent;\n",
              "      border-left-color: var(--fill-color);\n",
              "      border-top-color: var(--fill-color);\n",
              "      border-right-color: var(--fill-color);\n",
              "    }\n",
              "    40% {\n",
              "      border-color: transparent;\n",
              "      border-right-color: var(--fill-color);\n",
              "      border-top-color: var(--fill-color);\n",
              "    }\n",
              "    60% {\n",
              "      border-color: transparent;\n",
              "      border-right-color: var(--fill-color);\n",
              "    }\n",
              "    80% {\n",
              "      border-color: transparent;\n",
              "      border-right-color: var(--fill-color);\n",
              "      border-bottom-color: var(--fill-color);\n",
              "    }\n",
              "    90% {\n",
              "      border-color: transparent;\n",
              "      border-bottom-color: var(--fill-color);\n",
              "    }\n",
              "  }\n",
              "</style>\n",
              "\n",
              "  <script>\n",
              "    async function quickchart(key) {\n",
              "      const quickchartButtonEl =\n",
              "        document.querySelector('#' + key + ' button');\n",
              "      quickchartButtonEl.disabled = true;  // To prevent multiple clicks.\n",
              "      quickchartButtonEl.classList.add('colab-df-spinner');\n",
              "      try {\n",
              "        const charts = await google.colab.kernel.invokeFunction(\n",
              "            'suggestCharts', [key], {});\n",
              "      } catch (error) {\n",
              "        console.error('Error during call to suggestCharts:', error);\n",
              "      }\n",
              "      quickchartButtonEl.classList.remove('colab-df-spinner');\n",
              "      quickchartButtonEl.classList.add('colab-df-quickchart-complete');\n",
              "    }\n",
              "    (() => {\n",
              "      let quickchartButtonEl =\n",
              "        document.querySelector('#df-a9e00bfe-a67d-412f-90a3-85e9ee4c01c9 button');\n",
              "      quickchartButtonEl.style.display =\n",
              "        google.colab.kernel.accessAllowed ? 'block' : 'none';\n",
              "    })();\n",
              "  </script>\n",
              "</div>\n",
              "    </div>\n",
              "  </div>\n"
            ]
          },
          "metadata": {},
          "execution_count": 3
        }
      ]
    },
    {
      "cell_type": "markdown",
      "source": [
        "using this dataset we are going to predict whether the particle is 'g' or 'h'. So we need to classify the data. Hence k/a as clasifiers. Here, flength -- fdist are feature values using which we predict class."
      ],
      "metadata": {
        "id": "HOzMorFfpoyb"
      }
    },
    {
      "cell_type": "code",
      "source": [
        "df['class'].unique()\n",
        "## g - gamma , h - hydron"
      ],
      "metadata": {
        "colab": {
          "base_uri": "https://localhost:8080/"
        },
        "id": "HyKdAeYhnqDG",
        "outputId": "72dee347-f0f4-4f67-8a4f-d1a4340d9fbe"
      },
      "execution_count": null,
      "outputs": [
        {
          "output_type": "execute_result",
          "data": {
            "text/plain": [
              "array(['g', 'h'], dtype=object)"
            ]
          },
          "metadata": {},
          "execution_count": 4
        }
      ]
    },
    {
      "cell_type": "code",
      "source": [
        "## since computer is good at working with numbers. therefore we are converting classes into number 0,1\n",
        "## 1--gamma, 0-hydron or vice versa\n",
        "df['class'] = (df['class'] == 'g').astype(int)  ## id it'as true thamn it will convert g in 1 and h in 0 (can do this vice versa also)."
      ],
      "metadata": {
        "id": "ahGPquzEoEA7"
      },
      "execution_count": null,
      "outputs": []
    },
    {
      "cell_type": "code",
      "source": [
        "df.sample(8)"
      ],
      "metadata": {
        "colab": {
          "base_uri": "https://localhost:8080/",
          "height": 300
        },
        "id": "ib6d5kAIo8J7",
        "outputId": "26657cb8-1273-4065-95f2-616192858775"
      },
      "execution_count": null,
      "outputs": [
        {
          "output_type": "execute_result",
          "data": {
            "text/plain": [
              "        fLength   fWidth   fSize   fConc  fConc1     fAsym   fM3Long  \\\n",
              "17774  176.2820  71.4843  3.6873  0.1329  0.0706  -59.2747 -142.8410   \n",
              "2494   112.7040  75.6026  4.3784  0.0668  0.0340   71.7430   72.1956   \n",
              "5220    20.8203  14.9753  2.5038  0.4828  0.2618   22.2022   14.7743   \n",
              "2261    12.9396  11.0653  2.1508  0.7279  0.4558   14.1380   -7.2703   \n",
              "16596   89.9106  22.5123  2.8648  0.2102  0.1140  167.9100  -92.5395   \n",
              "2048    19.7891  12.9889  2.4191  0.5067  0.2571   14.5680    5.0107   \n",
              "2884    46.3950  20.7354  2.9941  0.2291  0.1151   -5.4724  -22.4582   \n",
              "3783    34.5434  10.6311  2.6985  0.4004  0.2272   48.8336    7.9539   \n",
              "\n",
              "       fM3Trans   fAlpha     fDist  class  \n",
              "17774  -58.7582  36.9137  312.8560      0  \n",
              "2494    40.1500   6.2016  310.3950      1  \n",
              "5220     2.7786  36.8492  178.5390      1  \n",
              "2261     0.4439  72.5300  220.1570      1  \n",
              "16596  -16.2772  39.4007   68.3801      0  \n",
              "2048     3.8875  10.1390   75.7494      1  \n",
              "2884   -11.9183   9.8102  204.4070      1  \n",
              "3783     5.2069  12.0162  151.2140      1  "
            ],
            "text/html": [
              "\n",
              "  <div id=\"df-09f6f58b-9fec-4a10-93b3-63b3cae45bde\" class=\"colab-df-container\">\n",
              "    <div>\n",
              "<style scoped>\n",
              "    .dataframe tbody tr th:only-of-type {\n",
              "        vertical-align: middle;\n",
              "    }\n",
              "\n",
              "    .dataframe tbody tr th {\n",
              "        vertical-align: top;\n",
              "    }\n",
              "\n",
              "    .dataframe thead th {\n",
              "        text-align: right;\n",
              "    }\n",
              "</style>\n",
              "<table border=\"1\" class=\"dataframe\">\n",
              "  <thead>\n",
              "    <tr style=\"text-align: right;\">\n",
              "      <th></th>\n",
              "      <th>fLength</th>\n",
              "      <th>fWidth</th>\n",
              "      <th>fSize</th>\n",
              "      <th>fConc</th>\n",
              "      <th>fConc1</th>\n",
              "      <th>fAsym</th>\n",
              "      <th>fM3Long</th>\n",
              "      <th>fM3Trans</th>\n",
              "      <th>fAlpha</th>\n",
              "      <th>fDist</th>\n",
              "      <th>class</th>\n",
              "    </tr>\n",
              "  </thead>\n",
              "  <tbody>\n",
              "    <tr>\n",
              "      <th>17774</th>\n",
              "      <td>176.2820</td>\n",
              "      <td>71.4843</td>\n",
              "      <td>3.6873</td>\n",
              "      <td>0.1329</td>\n",
              "      <td>0.0706</td>\n",
              "      <td>-59.2747</td>\n",
              "      <td>-142.8410</td>\n",
              "      <td>-58.7582</td>\n",
              "      <td>36.9137</td>\n",
              "      <td>312.8560</td>\n",
              "      <td>0</td>\n",
              "    </tr>\n",
              "    <tr>\n",
              "      <th>2494</th>\n",
              "      <td>112.7040</td>\n",
              "      <td>75.6026</td>\n",
              "      <td>4.3784</td>\n",
              "      <td>0.0668</td>\n",
              "      <td>0.0340</td>\n",
              "      <td>71.7430</td>\n",
              "      <td>72.1956</td>\n",
              "      <td>40.1500</td>\n",
              "      <td>6.2016</td>\n",
              "      <td>310.3950</td>\n",
              "      <td>1</td>\n",
              "    </tr>\n",
              "    <tr>\n",
              "      <th>5220</th>\n",
              "      <td>20.8203</td>\n",
              "      <td>14.9753</td>\n",
              "      <td>2.5038</td>\n",
              "      <td>0.4828</td>\n",
              "      <td>0.2618</td>\n",
              "      <td>22.2022</td>\n",
              "      <td>14.7743</td>\n",
              "      <td>2.7786</td>\n",
              "      <td>36.8492</td>\n",
              "      <td>178.5390</td>\n",
              "      <td>1</td>\n",
              "    </tr>\n",
              "    <tr>\n",
              "      <th>2261</th>\n",
              "      <td>12.9396</td>\n",
              "      <td>11.0653</td>\n",
              "      <td>2.1508</td>\n",
              "      <td>0.7279</td>\n",
              "      <td>0.4558</td>\n",
              "      <td>14.1380</td>\n",
              "      <td>-7.2703</td>\n",
              "      <td>0.4439</td>\n",
              "      <td>72.5300</td>\n",
              "      <td>220.1570</td>\n",
              "      <td>1</td>\n",
              "    </tr>\n",
              "    <tr>\n",
              "      <th>16596</th>\n",
              "      <td>89.9106</td>\n",
              "      <td>22.5123</td>\n",
              "      <td>2.8648</td>\n",
              "      <td>0.2102</td>\n",
              "      <td>0.1140</td>\n",
              "      <td>167.9100</td>\n",
              "      <td>-92.5395</td>\n",
              "      <td>-16.2772</td>\n",
              "      <td>39.4007</td>\n",
              "      <td>68.3801</td>\n",
              "      <td>0</td>\n",
              "    </tr>\n",
              "    <tr>\n",
              "      <th>2048</th>\n",
              "      <td>19.7891</td>\n",
              "      <td>12.9889</td>\n",
              "      <td>2.4191</td>\n",
              "      <td>0.5067</td>\n",
              "      <td>0.2571</td>\n",
              "      <td>14.5680</td>\n",
              "      <td>5.0107</td>\n",
              "      <td>3.8875</td>\n",
              "      <td>10.1390</td>\n",
              "      <td>75.7494</td>\n",
              "      <td>1</td>\n",
              "    </tr>\n",
              "    <tr>\n",
              "      <th>2884</th>\n",
              "      <td>46.3950</td>\n",
              "      <td>20.7354</td>\n",
              "      <td>2.9941</td>\n",
              "      <td>0.2291</td>\n",
              "      <td>0.1151</td>\n",
              "      <td>-5.4724</td>\n",
              "      <td>-22.4582</td>\n",
              "      <td>-11.9183</td>\n",
              "      <td>9.8102</td>\n",
              "      <td>204.4070</td>\n",
              "      <td>1</td>\n",
              "    </tr>\n",
              "    <tr>\n",
              "      <th>3783</th>\n",
              "      <td>34.5434</td>\n",
              "      <td>10.6311</td>\n",
              "      <td>2.6985</td>\n",
              "      <td>0.4004</td>\n",
              "      <td>0.2272</td>\n",
              "      <td>48.8336</td>\n",
              "      <td>7.9539</td>\n",
              "      <td>5.2069</td>\n",
              "      <td>12.0162</td>\n",
              "      <td>151.2140</td>\n",
              "      <td>1</td>\n",
              "    </tr>\n",
              "  </tbody>\n",
              "</table>\n",
              "</div>\n",
              "    <div class=\"colab-df-buttons\">\n",
              "\n",
              "  <div class=\"colab-df-container\">\n",
              "    <button class=\"colab-df-convert\" onclick=\"convertToInteractive('df-09f6f58b-9fec-4a10-93b3-63b3cae45bde')\"\n",
              "            title=\"Convert this dataframe to an interactive table.\"\n",
              "            style=\"display:none;\">\n",
              "\n",
              "  <svg xmlns=\"http://www.w3.org/2000/svg\" height=\"24px\" viewBox=\"0 -960 960 960\">\n",
              "    <path d=\"M120-120v-720h720v720H120Zm60-500h600v-160H180v160Zm220 220h160v-160H400v160Zm0 220h160v-160H400v160ZM180-400h160v-160H180v160Zm440 0h160v-160H620v160ZM180-180h160v-160H180v160Zm440 0h160v-160H620v160Z\"/>\n",
              "  </svg>\n",
              "    </button>\n",
              "\n",
              "  <style>\n",
              "    .colab-df-container {\n",
              "      display:flex;\n",
              "      gap: 12px;\n",
              "    }\n",
              "\n",
              "    .colab-df-convert {\n",
              "      background-color: #E8F0FE;\n",
              "      border: none;\n",
              "      border-radius: 50%;\n",
              "      cursor: pointer;\n",
              "      display: none;\n",
              "      fill: #1967D2;\n",
              "      height: 32px;\n",
              "      padding: 0 0 0 0;\n",
              "      width: 32px;\n",
              "    }\n",
              "\n",
              "    .colab-df-convert:hover {\n",
              "      background-color: #E2EBFA;\n",
              "      box-shadow: 0px 1px 2px rgba(60, 64, 67, 0.3), 0px 1px 3px 1px rgba(60, 64, 67, 0.15);\n",
              "      fill: #174EA6;\n",
              "    }\n",
              "\n",
              "    .colab-df-buttons div {\n",
              "      margin-bottom: 4px;\n",
              "    }\n",
              "\n",
              "    [theme=dark] .colab-df-convert {\n",
              "      background-color: #3B4455;\n",
              "      fill: #D2E3FC;\n",
              "    }\n",
              "\n",
              "    [theme=dark] .colab-df-convert:hover {\n",
              "      background-color: #434B5C;\n",
              "      box-shadow: 0px 1px 3px 1px rgba(0, 0, 0, 0.15);\n",
              "      filter: drop-shadow(0px 1px 2px rgba(0, 0, 0, 0.3));\n",
              "      fill: #FFFFFF;\n",
              "    }\n",
              "  </style>\n",
              "\n",
              "    <script>\n",
              "      const buttonEl =\n",
              "        document.querySelector('#df-09f6f58b-9fec-4a10-93b3-63b3cae45bde button.colab-df-convert');\n",
              "      buttonEl.style.display =\n",
              "        google.colab.kernel.accessAllowed ? 'block' : 'none';\n",
              "\n",
              "      async function convertToInteractive(key) {\n",
              "        const element = document.querySelector('#df-09f6f58b-9fec-4a10-93b3-63b3cae45bde');\n",
              "        const dataTable =\n",
              "          await google.colab.kernel.invokeFunction('convertToInteractive',\n",
              "                                                    [key], {});\n",
              "        if (!dataTable) return;\n",
              "\n",
              "        const docLinkHtml = 'Like what you see? Visit the ' +\n",
              "          '<a target=\"_blank\" href=https://colab.research.google.com/notebooks/data_table.ipynb>data table notebook</a>'\n",
              "          + ' to learn more about interactive tables.';\n",
              "        element.innerHTML = '';\n",
              "        dataTable['output_type'] = 'display_data';\n",
              "        await google.colab.output.renderOutput(dataTable, element);\n",
              "        const docLink = document.createElement('div');\n",
              "        docLink.innerHTML = docLinkHtml;\n",
              "        element.appendChild(docLink);\n",
              "      }\n",
              "    </script>\n",
              "  </div>\n",
              "\n",
              "\n",
              "<div id=\"df-2e436eb1-8375-40ce-b757-69bfa0fb11e0\">\n",
              "  <button class=\"colab-df-quickchart\" onclick=\"quickchart('df-2e436eb1-8375-40ce-b757-69bfa0fb11e0')\"\n",
              "            title=\"Suggest charts\"\n",
              "            style=\"display:none;\">\n",
              "\n",
              "<svg xmlns=\"http://www.w3.org/2000/svg\" height=\"24px\"viewBox=\"0 0 24 24\"\n",
              "     width=\"24px\">\n",
              "    <g>\n",
              "        <path d=\"M19 3H5c-1.1 0-2 .9-2 2v14c0 1.1.9 2 2 2h14c1.1 0 2-.9 2-2V5c0-1.1-.9-2-2-2zM9 17H7v-7h2v7zm4 0h-2V7h2v10zm4 0h-2v-4h2v4z\"/>\n",
              "    </g>\n",
              "</svg>\n",
              "  </button>\n",
              "\n",
              "<style>\n",
              "  .colab-df-quickchart {\n",
              "      --bg-color: #E8F0FE;\n",
              "      --fill-color: #1967D2;\n",
              "      --hover-bg-color: #E2EBFA;\n",
              "      --hover-fill-color: #174EA6;\n",
              "      --disabled-fill-color: #AAA;\n",
              "      --disabled-bg-color: #DDD;\n",
              "  }\n",
              "\n",
              "  [theme=dark] .colab-df-quickchart {\n",
              "      --bg-color: #3B4455;\n",
              "      --fill-color: #D2E3FC;\n",
              "      --hover-bg-color: #434B5C;\n",
              "      --hover-fill-color: #FFFFFF;\n",
              "      --disabled-bg-color: #3B4455;\n",
              "      --disabled-fill-color: #666;\n",
              "  }\n",
              "\n",
              "  .colab-df-quickchart {\n",
              "    background-color: var(--bg-color);\n",
              "    border: none;\n",
              "    border-radius: 50%;\n",
              "    cursor: pointer;\n",
              "    display: none;\n",
              "    fill: var(--fill-color);\n",
              "    height: 32px;\n",
              "    padding: 0;\n",
              "    width: 32px;\n",
              "  }\n",
              "\n",
              "  .colab-df-quickchart:hover {\n",
              "    background-color: var(--hover-bg-color);\n",
              "    box-shadow: 0 1px 2px rgba(60, 64, 67, 0.3), 0 1px 3px 1px rgba(60, 64, 67, 0.15);\n",
              "    fill: var(--button-hover-fill-color);\n",
              "  }\n",
              "\n",
              "  .colab-df-quickchart-complete:disabled,\n",
              "  .colab-df-quickchart-complete:disabled:hover {\n",
              "    background-color: var(--disabled-bg-color);\n",
              "    fill: var(--disabled-fill-color);\n",
              "    box-shadow: none;\n",
              "  }\n",
              "\n",
              "  .colab-df-spinner {\n",
              "    border: 2px solid var(--fill-color);\n",
              "    border-color: transparent;\n",
              "    border-bottom-color: var(--fill-color);\n",
              "    animation:\n",
              "      spin 1s steps(1) infinite;\n",
              "  }\n",
              "\n",
              "  @keyframes spin {\n",
              "    0% {\n",
              "      border-color: transparent;\n",
              "      border-bottom-color: var(--fill-color);\n",
              "      border-left-color: var(--fill-color);\n",
              "    }\n",
              "    20% {\n",
              "      border-color: transparent;\n",
              "      border-left-color: var(--fill-color);\n",
              "      border-top-color: var(--fill-color);\n",
              "    }\n",
              "    30% {\n",
              "      border-color: transparent;\n",
              "      border-left-color: var(--fill-color);\n",
              "      border-top-color: var(--fill-color);\n",
              "      border-right-color: var(--fill-color);\n",
              "    }\n",
              "    40% {\n",
              "      border-color: transparent;\n",
              "      border-right-color: var(--fill-color);\n",
              "      border-top-color: var(--fill-color);\n",
              "    }\n",
              "    60% {\n",
              "      border-color: transparent;\n",
              "      border-right-color: var(--fill-color);\n",
              "    }\n",
              "    80% {\n",
              "      border-color: transparent;\n",
              "      border-right-color: var(--fill-color);\n",
              "      border-bottom-color: var(--fill-color);\n",
              "    }\n",
              "    90% {\n",
              "      border-color: transparent;\n",
              "      border-bottom-color: var(--fill-color);\n",
              "    }\n",
              "  }\n",
              "</style>\n",
              "\n",
              "  <script>\n",
              "    async function quickchart(key) {\n",
              "      const quickchartButtonEl =\n",
              "        document.querySelector('#' + key + ' button');\n",
              "      quickchartButtonEl.disabled = true;  // To prevent multiple clicks.\n",
              "      quickchartButtonEl.classList.add('colab-df-spinner');\n",
              "      try {\n",
              "        const charts = await google.colab.kernel.invokeFunction(\n",
              "            'suggestCharts', [key], {});\n",
              "      } catch (error) {\n",
              "        console.error('Error during call to suggestCharts:', error);\n",
              "      }\n",
              "      quickchartButtonEl.classList.remove('colab-df-spinner');\n",
              "      quickchartButtonEl.classList.add('colab-df-quickchart-complete');\n",
              "    }\n",
              "    (() => {\n",
              "      let quickchartButtonEl =\n",
              "        document.querySelector('#df-2e436eb1-8375-40ce-b757-69bfa0fb11e0 button');\n",
              "      quickchartButtonEl.style.display =\n",
              "        google.colab.kernel.accessAllowed ? 'block' : 'none';\n",
              "    })();\n",
              "  </script>\n",
              "</div>\n",
              "    </div>\n",
              "  </div>\n"
            ]
          },
          "metadata": {},
          "execution_count": 6
        }
      ]
    },
    {
      "cell_type": "markdown",
      "source": [
        "Supervised learning\n",
        "\n",
        "input --> Model --> output\n",
        "input - k/a feature vector.\n",
        "model - used to train the dataset.\n",
        "output - label that is going to predict.\n",
        "\n",
        "*can have different type of features* :\n",
        "***a. Qualitative***: categorical data(finite number of categories or groups) eg gender(F/M), bunch of diff nationality.\n",
        "it can be **nominal data** ie have no order like F-0 and M-1 it can be vice versa also. use one hot encoding to represent this. (convert data into numrical form). Says that if it matches than put it equals to 1.\n",
        "eg - [Usa, India, Canada, France]\n",
        "USA = [1,0,0,0]\n",
        "India = [0,1,0,0]\n",
        "Canada = [0,0,1,0]\n",
        "France = [0,0,0,1]\n",
        "\n",
        "it can be **ordinal data** ie have some order. eg rating (poor(0), medium(1), great(2)). order can be reversed but it's always in some order.\n",
        "\n",
        "***b. Quantative***: numerical value data can be discrete or continuous.\n",
        "eg temperature, weight, height.\n",
        "\n",
        "Types of predictions our model can output:\n",
        "1. classification - predict discete class. (eg ice-creme, hotdog, cold-drink) , plant species -- multi-class classification.\n",
        "means more than 1 class.\n",
        "-- binary class - have only 2 class - eg(ice-creme, cold drink), eg(cat,dog). , positive/negative.\n",
        "\n",
        "2. regression - predict continuous values. eg price of house tomorrow, temperature tomorrow."
      ],
      "metadata": {
        "id": "1ZoZQ7_ywOwp"
      }
    },
    {
      "cell_type": "markdown",
      "source": [
        "Models --\n",
        "all combined feature vectors(single col) are known as to be feature matrix.\n",
        "X = feature matrix\n",
        "Y = target value/label\n",
        "each row of feature matrix is fed into the model. And the model will make some sort of predictions. And we compare the prediction with the actual value of y that is present in the dataset. Find the error and reduce it in next iteration. **This whole process is known as training of model**.\n",
        "\n",
        "\n",
        "---\n",
        "What if we use whole data for training?? That's definetely not an optimal choice. Since whole are dataset is used up in training. Therefore if we use the same dataset for testing purpose then the output is 100% which is not true. Due to this reason we divide are dataset into 3 parts :-\n",
        "1. Training set - training dataset is feeded into the model. It makes the predictions which is compared with the original dataset and error/loss is calculated. ---> k/a training\n",
        "2. Validation dataset - after each iteration/epoch of training. Validation dataset is used to find the accuracy. Model having least accuracy is passed and used as final dataset.\n",
        "eg = model 1 : loss = 1.3       model2 : loss = 1.5\n",
        "     model 3 : loss = 0.5       model 4 : loss = 0.9\n",
        "     Model 3 is used since have least loss.\n",
        "\n",
        "3. Test set - take model 3 run our test set check accuracy and performance of the model. Gives how generalize the model is.\n",
        "\n",
        "\n",
        "\n",
        "---\n",
        "Metrices of performance\n",
        "\n",
        "a. **Loss**\n",
        "\n",
        "loss = predicted value - actual value\n",
        "LOSS FUNCTIONS -\n",
        "\n",
        "L1 loss = sum( |yreal - ypredicted| )\n",
        "\n",
        " -> as the difference increases the loss increases.\n",
        "\n",
        "L2 loss = sum( (yreal - ypredicted)^2 )\n",
        "-> when the difference is low penality decreases very much asm compared to L1 loss. But if the difference increases too much then the penality will increases very much Hence it'll not work in outliers. ( as if errors are less than 1 squaring it will decreases it's value but if it's greater then 1 the squaring it will increse it's value).\n",
        "\n",
        "Binary cross entropy loss = -1/N * sum(yreal *log(ypredicted)+ (1-yreal) *log(1-ypredicted)). -> used in binary classification. (used alot).  \n",
        "\n",
        "b. Accuracy - how much are data is accurate means predicted value is correct.\n"
      ],
      "metadata": {
        "id": "2XVqW547XKNa"
      }
    },
    {
      "cell_type": "code",
      "source": [
        "## visualizing the data\n",
        "for label in col[:-1]:\n",
        "  plt.hist(df[df['class']==1][label], color = 'blue', alpha = 0.7, label='gamma', density=True)\n",
        "  plt.hist(df[df['class']==0][label], color = 'red', alpha = 0.7, label='hydron', density=True)\n",
        "  plt.title(label)\n",
        "  plt.xlabel(label)\n",
        "  plt.ylabel('Probablity')\n",
        "  plt.legend()\n",
        "  plt.show()"
      ],
      "metadata": {
        "id": "P3Y0SE8lo9sO",
        "colab": {
          "base_uri": "https://localhost:8080/",
          "height": 1000
        },
        "outputId": "20554b80-6513-4f7b-a975-1e09cf50bb5f"
      },
      "execution_count": null,
      "outputs": [
        {
          "output_type": "display_data",
          "data": {
            "text/plain": [
              "<Figure size 640x480 with 1 Axes>"
            ],
            "image/png": "[encoded data removed]"
          },
          "metadata": {}
        },
        {
          "output_type": "display_data",
          "data": {
            "text/plain": [
              "<Figure size 640x480 with 1 Axes>"
            ],
            "image/png": "[encoded data removed]"
          },
          "metadata": {}
        },
        {
          "output_type": "display_data",
          "data": {
            "text/plain": [
              "<Figure size 640x480 with 1 Axes>"
            ],
            "image/png": "[encoded data removed]"
          },
          "metadata": {}
        },
        {
          "output_type": "display_data",
          "data": {
            "text/plain": [
              "<Figure size 640x480 with 1 Axes>"
            ],
            "image/png": "[encoded data removed]"
          },
          "metadata": {}
        },
        {
          "output_type": "display_data",
          "data": {
            "text/plain": [
              "<Figure size 640x480 with 1 Axes>"
            ],
            "image/png": "[encoded data removed]"
          },
          "metadata": {}
        },
        {
          "output_type": "display_data",
          "data": {
            "text/plain": [
              "<Figure size 640x480 with 1 Axes>"
            ],
            "image/png": "[encoded data removed]"
          },
          "metadata": {}
        },
        {
          "output_type": "display_data",
          "data": {
            "text/plain": [
              "<Figure size 640x480 with 1 Axes>"
            ],
            "image/png": "[encoded data removed]"
          },
          "metadata": {}
        },
        {
          "output_type": "display_data",
          "data": {
            "text/plain": [
              "<Figure size 640x480 with 1 Axes>"
            ],
            "image/png": "[encoded data removed]"
          },
          "metadata": {}
        },
        {
          "output_type": "display_data",
          "data": {
            "text/plain": [
              "<Figure size 640x480 with 1 Axes>"
            ],
            "image/png": "[encoded data removed]"
          },
          "metadata": {}
        },
        {
          "output_type": "display_data",
          "data": {
            "text/plain": [
              "<Figure size 640x480 with 1 Axes>"
            ],
            "image/png": "[encoded data removed]"
          },
          "metadata": {}
        }
      ]
    },
    {
      "cell_type": "markdown",
      "source": [
        "# creating training, testing, validation of dataset."
      ],
      "metadata": {
        "id": "DySspGkAaV0W"
      }
    },
    {
      "cell_type": "code",
      "source": [
        "train, valid, test = np.split(df.sample(frac=1), (int(0.6*len(df)), int(0.8*len(df))))\n",
        "# df.sample(frac=1) --> refers that shuffle the whole dataset - ranges b/w 0-1-- 0.8 means only 80% of data is shuffled and so on\n",
        "# 1st split at 60% and 2nd split at 80%. 1st split --> training data, 2nd split--> validating data, 3rd split--> testing data\n",
        "# syntax - np.split(dataframe, (split))\n",
        "# df.sample(frac=0-1, random_state=42) --> if random state is given then shuffling will be same everytime."
      ],
      "metadata": {
        "id": "b564ntjfk2UG"
      },
      "execution_count": null,
      "outputs": []
    },
    {
      "cell_type": "code",
      "source": [
        "print(len(train[train['class']==1]))\n",
        "print(len(train[train['class']==0]))"
      ],
      "metadata": {
        "colab": {
          "base_uri": "https://localhost:8080/"
        },
        "id": "5aRokO1Y1aWI",
        "outputId": "335f1bc9-27b9-458e-dbef-24894552f574"
      },
      "execution_count": null,
      "outputs": [
        {
          "output_type": "stream",
          "name": "stdout",
          "text": [
            "7347\n",
            "4065\n"
          ]
        }
      ]
    },
    {
      "cell_type": "markdown",
      "source": [
        "### standardscaler\n",
        "- preprocessing class of scikit learn lib.\n",
        "- used for standardizing features by removing the mean and scaling to unit variance.\n",
        "-- removing mean - mean of each col is calculated and subtracted from each data points\n",
        "-- scaling to unit variance - variance = spread/dispersion.(how much value is deviated from the mean). Each feature is scaled after dividing it by it's satndard deviation. After the variance of each feature becomes 1.\n",
        "\n",
        "formula = (xi - mean(x))/std(x)\n",
        "- it brings all the values on the same level. So that feature on larger scale donot dominate over features on smaller scale.\n",
        "\n",
        "// initialization -\n",
        "\n",
        "libray = from sklearn.preprocessing import StandardScaler\n",
        "\n",
        "creating instance : scaler = StandardScaler()\n",
        "\n",
        "while creating instance it's empty not contains anything until the data is fitted into it.\n",
        "\n",
        "// fitting standardscaler to the data.\n",
        "X_scaled = scaler.fit_transform(X)\n",
        "\n",
        "scaler object uses fit_transfrom method to standralize the feature matrix X. During fiting the mean and standard deviation is calculated and stored in the scaler object. Transfrom part standardize the X using the stored value.\n",
        "\n",
        "\n",
        "\n"
      ],
      "metadata": {
        "id": "wafuH1j_uFiR"
      }
    },
    {
      "cell_type": "markdown",
      "source": [
        "Here the differnce b/w the number of hydron and gamma particles in the dataset that leads to biased desicion which is not a good practice. Not good for training data. But can be good for testing and validation of data. because while testing data should be random.\n",
        "## OverSampling\n",
        "- it refers to  balance imbalnce dataset. Class imbalance occurs when the size differnce is significant.\n",
        "- if not solved leads to biased decision.\n",
        "- oversampling - refers to leads the number of instances in minor class by genrating synthetic eg or duplicating existing values.\n",
        "- random sampling - instances from the random class is selected and used.\n",
        "- other technique - like SMOTE (Synthetic Minority Over-sampling Technique), ADASYN (Adaptive Synthetic Sampling) These techniques involve generating synthetic examples based on the existing minority class instances rather than simply duplicating them.\n",
        "\n",
        "//intialization\n",
        "\n",
        "library = from imblearn.over_sampling import RandomOverSampler\n",
        "\n",
        "\n",
        "*   imblearn - main lib (imbalanced learn)\n",
        "*   over_sampling - submodel concered about oversampling functions\n",
        "*   RandomOverSampler - used for random over sampling technique - randomly picks data and create duplicates.\n",
        "\n",
        "creating instance\n",
        "\n",
        "ros = RandomOverSampler() - used to apply random oversampling on dataset.\n",
        "- provides different methods to for sampling\n",
        "like fit_resample - used to fit the data.\n",
        "\n",
        "syntax : ros.fit_resample(feature, label)\n",
        "gives 2 tuple : X_resampled (feature), Y_resampled(label)\n",
        "\n",
        "\n",
        "\n",
        "\n",
        "\n",
        "\n"
      ],
      "metadata": {
        "id": "baoN9O1J1qkB"
      }
    },
    {
      "cell_type": "code",
      "source": [
        "## the values in dataset of columns are varies a lot not scaled. Leads to bad results\n",
        "# therefore, needed to be scaled\n",
        "def scale_dataset(dataframe, oversample=False):\n",
        "  X = dataframe[dataframe.columns[:-1]].values\n",
        "  y = dataframe[dataframe.columns[-1]].values\n",
        "\n",
        "  scaler = StandardScaler()\n",
        "  X = scaler.fit_transform(X)\n",
        "\n",
        "  if oversample:\n",
        "    ros = RandomOverSampler()\n",
        "    X, y = ros.fit_resample(X, y)\n",
        "\n",
        "  data = np.hstack((X, np.reshape(y, (-1, 1)))) #combining both scaled feature and label into a single numpy array.\n",
        "  #stack both horizonatally (col wise) . X is 2d and y is 1D = combination not possible. Therefore y is converted into 2d\n",
        "  ## -1 refers it's compatible with X.\n",
        "\n",
        "  return data, X, y"
      ],
      "metadata": {
        "id": "mALDo0tvmXee"
      },
      "execution_count": null,
      "outputs": []
    },
    {
      "cell_type": "code",
      "source": [
        "train, X_train, y_train = scale_dataset(train, oversample=True) # train is the original data, X_train - feature, y_train - label\n",
        "valid, X_valid, y_valid = scale_dataset(valid, oversample=False)\n",
        "test, X_test, y_test = scale_dataset(test, oversample=False)"
      ],
      "metadata": {
        "id": "OfgIsAqas_Gd"
      },
      "execution_count": null,
      "outputs": []
    },
    {
      "cell_type": "code",
      "source": [
        "train"
      ],
      "metadata": {
        "id": "gDMxl5xf9rcr",
        "colab": {
          "base_uri": "https://localhost:8080/"
        },
        "outputId": "f17f63d9-949c-467a-9f35-d20710b204ea"
      },
      "execution_count": null,
      "outputs": [
        {
          "output_type": "execute_result",
          "data": {
            "text/plain": [
              "array([[-0.51519378, -0.40719778, -0.82900248, ..., -0.91129148,\n",
              "         0.0303361 ,  1.        ],\n",
              "       [ 0.99215085,  1.12602322,  2.57668562, ..., -0.9062798 ,\n",
              "         1.29181269,  1.        ],\n",
              "       [-0.26993317,  0.03602026,  0.74706666, ..., -0.77561242,\n",
              "        -0.26732303,  1.        ],\n",
              "       ...,\n",
              "       [ 1.02709865,  1.05422575,  1.08816414, ...,  1.18022893,\n",
              "         1.37162459,  0.        ],\n",
              "       [ 3.49756584,  4.79676106,  3.81038847, ...,  2.06714301,\n",
              "         1.46015465,  0.        ],\n",
              "       [ 1.15032793, -0.16145371,  0.90651334, ..., -0.9119232 ,\n",
              "         1.21388328,  0.        ]])"
            ]
          },
          "metadata": {},
          "execution_count": 12
        }
      ]
    },
    {
      "cell_type": "markdown",
      "source": [
        "# Models\n",
        "1. KNN (k- nearest neighbour)\n",
        "- Look around and according to environment behaviour gives the output.\n",
        "- supervised\n",
        "- used in classification and regression\n",
        "- [pic](https://www.iunera.com/wp-content/uploads/image-267.png?v=1616933850) -> in this img - the white neighbours are black therefore it's supposed to be black.\n",
        "\n",
        "Step 1 - define distance function. In 2d plots usually use euclidean distance function. It's just the straight lines to the points. (same formula)\n",
        "\n",
        "K refers how many neighbours we need to judge the output. It's a hyperparameter that needs to be specified before applying the algorithm. And the label that is n=majority will win or will be the ans."
      ],
      "metadata": {
        "id": "P7IPW1E19-Ie"
      }
    },
    {
      "cell_type": "code",
      "source": [
        "### Implementation oh kNN\n",
        "from sklearn.neighbors import KNeighborsClassifier\n",
        "from sklearn.metrics import classification_report"
      ],
      "metadata": {
        "id": "ESXN54tR9ugZ"
      },
      "execution_count": null,
      "outputs": []
    },
    {
      "cell_type": "code",
      "source": [
        "knn_model = KNeighborsClassifier(n_neighbors = 5)  ## used only one neighbor to choose the output.\n",
        "## n_neighbor is the hyperparameter.\n",
        "knn_model.fit(X_train, y_train)    ## syntax - (feature matrix, label)"
      ],
      "metadata": {
        "id": "Orj9gQdfDaT6",
        "colab": {
          "base_uri": "https://localhost:8080/",
          "height": 74
        },
        "outputId": "fc85eead-ce0a-43e1-ee51-fdac9bbc47e5"
      },
      "execution_count": null,
      "outputs": [
        {
          "output_type": "execute_result",
          "data": {
            "text/plain": [
              "KNeighborsClassifier()"
            ],
            "text/html": [
              "<style>#sk-container-id-1 {color: black;background-color: white;}#sk-container-id-1 pre{padding: 0;}#sk-container-id-1 div.sk-toggleable {background-color: white;}#sk-container-id-1 label.sk-toggleable__label {cursor: pointer;display: block;width: 100%;margin-bottom: 0;padding: 0.3em;box-sizing: border-box;text-align: center;}#sk-container-id-1 label.sk-toggleable__label-arrow:before {content: \"▸\";float: left;margin-right: 0.25em;color: #696969;}#sk-container-id-1 label.sk-toggleable__label-arrow:hover:before {color: black;}#sk-container-id-1 div.sk-estimator:hover label.sk-toggleable__label-arrow:before {color: black;}#sk-container-id-1 div.sk-toggleable__content {max-height: 0;max-width: 0;overflow: hidden;text-align: left;background-color: #f0f8ff;}#sk-container-id-1 div.sk-toggleable__content pre {margin: 0.2em;color: black;border-radius: 0.25em;background-color: #f0f8ff;}#sk-container-id-1 input.sk-toggleable__control:checked~div.sk-toggleable__content {max-height: 200px;max-width: 100%;overflow: auto;}#sk-container-id-1 input.sk-toggleable__control:checked~label.sk-toggleable__label-arrow:before {content: \"▾\";}#sk-container-id-1 div.sk-estimator input.sk-toggleable__control:checked~label.sk-toggleable__label {background-color: #d4ebff;}#sk-container-id-1 div.sk-label input.sk-toggleable__control:checked~label.sk-toggleable__label {background-color: #d4ebff;}#sk-container-id-1 input.sk-hidden--visually {border: 0;clip: rect(1px 1px 1px 1px);clip: rect(1px, 1px, 1px, 1px);height: 1px;margin: -1px;overflow: hidden;padding: 0;position: absolute;width: 1px;}#sk-container-id-1 div.sk-estimator {font-family: monospace;background-color: #f0f8ff;border: 1px dotted black;border-radius: 0.25em;box-sizing: border-box;margin-bottom: 0.5em;}#sk-container-id-1 div.sk-estimator:hover {background-color: #d4ebff;}#sk-container-id-1 div.sk-parallel-item::after {content: \"\";width: 100%;border-bottom: 1px solid gray;flex-grow: 1;}#sk-container-id-1 div.sk-label:hover label.sk-toggleable__label {background-color: #d4ebff;}#sk-container-id-1 div.sk-serial::before {content: \"\";position: absolute;border-left: 1px solid gray;box-sizing: border-box;top: 0;bottom: 0;left: 50%;z-index: 0;}#sk-container-id-1 div.sk-serial {display: flex;flex-direction: column;align-items: center;background-color: white;padding-right: 0.2em;padding-left: 0.2em;position: relative;}#sk-container-id-1 div.sk-item {position: relative;z-index: 1;}#sk-container-id-1 div.sk-parallel {display: flex;align-items: stretch;justify-content: center;background-color: white;position: relative;}#sk-container-id-1 div.sk-item::before, #sk-container-id-1 div.sk-parallel-item::before {content: \"\";position: absolute;border-left: 1px solid gray;box-sizing: border-box;top: 0;bottom: 0;left: 50%;z-index: -1;}#sk-container-id-1 div.sk-parallel-item {display: flex;flex-direction: column;z-index: 1;position: relative;background-color: white;}#sk-container-id-1 div.sk-parallel-item:first-child::after {align-self: flex-end;width: 50%;}#sk-container-id-1 div.sk-parallel-item:last-child::after {align-self: flex-start;width: 50%;}#sk-container-id-1 div.sk-parallel-item:only-child::after {width: 0;}#sk-container-id-1 div.sk-dashed-wrapped {border: 1px dashed gray;margin: 0 0.4em 0.5em 0.4em;box-sizing: border-box;padding-bottom: 0.4em;background-color: white;}#sk-container-id-1 div.sk-label label {font-family: monospace;font-weight: bold;display: inline-block;line-height: 1.2em;}#sk-container-id-1 div.sk-label-container {text-align: center;}#sk-container-id-1 div.sk-container {/* jupyter's `normalize.less` sets `[hidden] { display: none; }` but bootstrap.min.css set `[hidden] { display: none !important; }` so we also need the `!important` here to be able to override the default hidden behavior on the sphinx rendered scikit-learn.org. See: https://github.com/scikit-learn/scikit-learn/issues/21755 */display: inline-block !important;position: relative;}#sk-container-id-1 div.sk-text-repr-fallback {display: none;}</style><div id=\"sk-container-id-1\" class=\"sk-top-container\"><div class=\"sk-text-repr-fallback\"><pre>KNeighborsClassifier()</pre><b>In a Jupyter environment, please rerun this cell to show the HTML representation or trust the notebook. <br />On GitHub, the HTML representation is unable to render, please try loading this page with nbviewer.org.</b></div><div class=\"sk-container\" hidden><div class=\"sk-item\"><div class=\"sk-estimator sk-toggleable\"><input class=\"sk-toggleable__control sk-hidden--visually\" id=\"sk-estimator-id-1\" type=\"checkbox\" checked><label for=\"sk-estimator-id-1\" class=\"sk-toggleable__label sk-toggleable__label-arrow\">KNeighborsClassifier</label><div class=\"sk-toggleable__content\"><pre>KNeighborsClassifier()</pre></div></div></div></div></div>"
            ]
          },
          "metadata": {},
          "execution_count": 14
        }
      ]
    },
    {
      "cell_type": "code",
      "source": [
        "y_pred = knn_model.predict(X_test) # here we are making the prediction on the unseen data.\n",
        "# feature matrix is passed to predict the output.\n",
        "# y_pred stores the predicted value.\n",
        "accuracy = knn_model.score(X_test, y_test) ## calculating the accuracy of our model.\n",
        "print(accuracy)"
      ],
      "metadata": {
        "id": "FVKEy1rLJJ0I"
      },
      "execution_count": null,
      "outputs": []
    },
    {
      "cell_type": "markdown",
      "source": [
        "## Evaluation of model\n",
        "###confusion matrix  ------\n",
        "\n",
        "Terms - True : ans is T/F, positive : pred =1, neg : pred = 0.\n",
        "\n",
        "a. True Positives (TP) - Actually positive(1) and correctly identified by the model. eg - pred = 1, actual = 1\n",
        "\n",
        "b. True Negatives (TN) - No. of predictions that are actually negative and correctly predicted. eg - pred = 0, actual = 0\n",
        "\n",
        "c. False positive (FP) - No. of predictions that are actually negative and predicted incorrectly. (type 1 error) eg - pred = 1, actual = 0.\n",
        "\n",
        "d. False negatives (FN) - No.  of predictions that are positive but predicted incorectly. (type 2 error) eg - pred = 0, actual = 1.\n",
        "\n",
        "we can use different metrics like accuracy, precision, recall, F1-score to evaluate the model.\n",
        "\n",
        "1. Accuracy : Total number of correctr prediction\n",
        "\n",
        "      formula: accuracy = (total no. of correct prediction)/(total no. of prediction) = TP/(TP+TN+FP+FN)\n",
        "      - suitable for balanced dataset(dataset in which oversamoling is not needed). Might give wrong answer in imbalanced dataset.\n",
        "2. Precision : ratio of corrected predicted positives to actual positives. focuseson the accuracy of positive predictions.\n",
        "\n",
        "     formula: precision = True positives / (true +ves + false +ves)\n",
        "     - useful when cost of false positives is high.\n",
        "\n",
        "3. Recall (Sensitivity or true positive rate) - ability of the classifier to capture all positive instances\n",
        "\n",
        "formula: recall = TP/(TP+FN)\n",
        "\n",
        "4. F1-score - harmonic mean of precision and recall. It provides a balanced measure that considers both false positives and false negatives.\n",
        "\n",
        "formual: f1-score = (2*precision*recall)/(Precision+recall)\n",
        "- useful when uneven class distribution is there.\n",
        "\n",
        "### precision\n",
        "Assuming y_true contains the true labels and y_pred contains the predicted labels\n",
        "\n",
        "from sklearn.metrics import precision_score\n",
        "\n",
        "precision = precision_score(y_true, y_pred)\n",
        "\n",
        "print(f\"Precision: {precision}\")\n",
        "### recall\n",
        "Assuming y_true contains the true labels and y_pred contains the predicted labels\n",
        "\n",
        "from sklearn.metrics import recall_score\n",
        "\n",
        "recall = recall_score(y_true, y_pred)\n",
        "\n",
        "print(f\"Recall: {recall}\")\n",
        "### f1 score\n",
        "Assuming y_true contains the true labels and y_pred contains the predicted labels\n",
        "\n",
        "from sklearn.metrics import f1_score\n",
        "\n",
        "f1 = f1_score(y_true, y_pred)\n",
        "\n",
        "print(f\"F1-Score: {f1}\")\n",
        "\n"
      ],
      "metadata": {
        "id": "0XFqm1ueM8Dm"
      }
    },
    {
      "cell_type": "code",
      "source": [
        "y_pred  #predicted value -- when not using classification report lib"
      ],
      "metadata": {
        "colab": {
          "base_uri": "https://localhost:8080/"
        },
        "id": "oNVxSOBWJeLX",
        "outputId": "3c8c22d2-8348-42e5-efff-3d7ce6c2e28c"
      },
      "execution_count": null,
      "outputs": [
        {
          "output_type": "execute_result",
          "data": {
            "text/plain": [
              "array([1, 1, 0, ..., 1, 0, 0])"
            ]
          },
          "metadata": {},
          "execution_count": 16
        }
      ]
    },
    {
      "cell_type": "code",
      "source": [
        "y_test    #actual value -- when not using classification report lib"
      ],
      "metadata": {
        "colab": {
          "base_uri": "https://localhost:8080/"
        },
        "id": "5OdY7YmcJfzV",
        "outputId": "225072d7-ebf5-49f1-cd25-32fb461a6962"
      },
      "execution_count": null,
      "outputs": [
        {
          "output_type": "execute_result",
          "data": {
            "text/plain": [
              "array([1, 1, 0, ..., 0, 0, 0])"
            ]
          },
          "metadata": {},
          "execution_count": 17
        }
      ]
    },
    {
      "cell_type": "markdown",
      "source": [
        "from sklearn.metrics import classification_report\n",
        "- classification_report is a function scikit lib used to generate all the classification metrics in one go. Easy to get the stats.\n",
        "- It includes accuracy, precision, recall, support, f1-score.\n",
        "\n",
        "report = (classification_report(y_pred, y_test)) - parameters (predicted val, original labels).\n",
        "- support : count of instances in the dataset. Not consider the oversampled values.\n",
        "\n"
      ],
      "metadata": {
        "id": "46_fgodNWp3h"
      }
    },
    {
      "cell_type": "code",
      "source": [
        "print(classification_report(y_pred, y_test)) ## after using classification report lib."
      ],
      "metadata": {
        "colab": {
          "base_uri": "https://localhost:8080/"
        },
        "id": "UUAnExHEJg7a",
        "outputId": "c71c5c98-bc64-4540-f5ad-384bb8cbc013"
      },
      "execution_count": null,
      "outputs": [
        {
          "output_type": "stream",
          "name": "stdout",
          "text": [
            "              precision    recall  f1-score   support\n",
            "\n",
            "           0       0.75      0.73      0.74      1351\n",
            "           1       0.85      0.87      0.86      2453\n",
            "\n",
            "    accuracy                           0.82      3804\n",
            "   macro avg       0.80      0.80      0.80      3804\n",
            "weighted avg       0.82      0.82      0.82      3804\n",
            "\n"
          ]
        }
      ]
    },
    {
      "cell_type": "markdown",
      "source": [
        "## 2. Naive Bayes  \n",
        "- simple algo based on bayes' theorem.\n",
        "- used for classification particulary for text data. eg spam detection, segmentation analysis.\n",
        "\n",
        "**Working**\n",
        "1. bayes theorem ->  P(A|B) =( P(B|A) * P(A)/ P(B) )\n",
        "\n",
        "2. Naive assumption -> feature used to describe the conditional part is independent to each other.\n",
        "\n",
        "formula : P(Ck | X) = (P(X | Ck) * P(Ck) ) / P(X) ----> X = feature vector\n",
        "- posterior = (likelihood *  prior) / evidence\n",
        "\n",
        "posterior = what we want to predict. Ck is class - in binary classification there is 2 class 0/1. In multi classification there is multiple class. X = feature matrix.\n",
        "\n",
        "likelihood = possiblites. what's the probability of X.\n",
        "Observing particular set of X given a secific classs.\n",
        "- eg : classification model of detecting whether a mail is spam(S) or not spam(NS).\n",
        "- Features = a.   (F1) -> conatins word 'offer'.\n",
        "  b.   (F2) -> contains word 'urgent'.\n",
        "\n",
        "Likelihoods ->\n",
        "1. P(F1|S) = Probability of an email containing the word 'offer' given that it's spam.\n",
        "2. P(F2|S) = Probability of an email containing the word 'urgent' given that it's spam.\n",
        "3. P(F1|NS) = Probability of an email containing the word 'offer' given that it's not spam.\n",
        "4. P(F2|NS) = Probability of an email containing the word 'urgent' given that it's not spam.\n",
        "\n",
        "\n",
        "Prior probabilities = probability of events(labels). Eg in mail classification we have two labels Spam/Non-spam. 2 events therefore, 2 prior probalitites.\n",
        "- it's the probability before considering any condition.\n",
        "\n",
        "evidence = the evidence is the information we gather or observe, and it helps us update our beliefs about the likelihood of different events. eg in rain prediction the evidence can be current weather, season, forcast etc.\n",
        "\n",
        "Prediction -> after training, test data is given then prediction is made.\n",
        "- Naive's rule = P(Ck| x1,x2,.....,xn) ∝ P(Ck)* ∏ (from 1 to n) P(xi|Ck)\n",
        "\n",
        "Derevation -:\n",
        "P(Ck|x1,x2,....,xn) = (P(x1,x2,...,xn|Ck)*(P(Ck))) / P(x1,x2,..xn)\n",
        "- here the denominator part is constant for each label. Therefore posterior is directly propostional to numerator. Given that all the **evidences are independent** to each other.\n",
        "\n",
        "P(Ck|x1,x2,....,xn) ∝ (P(x1,x2,...,xn | Ck)*(P(Ck)))\n",
        "\n",
        "(P(x1,x2,...,xn | Ck)*(P(Ck))) = P(x1 | Ck)*P(x2 | Ck)*...*P(xn | Ck) = P(Ck)* ∏ (from 1 to n) P(xi | Ck).\n",
        "\n",
        "Ŷ (predicted Y) = argmax * P(Ck|x1,x2,....,xn)\n",
        "\n",
        "Ŷ (predicted Y) = argmax * (P(x1,x2,...,xn | Ck)*(P(Ck))) --> (k/a MAP = Maximize A Posteriori.  )\n",
        "\n",
        "argmax = k --> used to maximize the predicted value. Ranges from - (1 to k).\n",
        "- k/a MAP = Maximize A Posteriori.  \n",
        "- The MAP estimation seeks to find the parameter value that maximizes the posterior probability.\n",
        "- states that pick the hypothesis(or k) that is most probable to minimize the probability of misclasification.\n",
        "\n",
        "\n",
        "\n",
        "\n"
      ],
      "metadata": {
        "id": "8hbioBeKu6-G"
      }
    },
    {
      "cell_type": "code",
      "source": [
        "from sklearn.naive_bayes import GaussianNB\n",
        "# importing\n",
        "# there are different types of Naive Bayes\n",
        "# 1. Multinominal naive bayes : suitable for discrete data\n",
        "# 2. Gaussian naive bayes : assume that feature follows normal distribution. For continous data.\n",
        "# 3. Bernouli Naive bayes : similar to Multinominal. suitable for binary data.\n",
        "# importing === from sklearn.naive_bayes import MultinomialNB, BernoulliNB"
      ],
      "metadata": {
        "id": "xubT8GFqKawr"
      },
      "execution_count": null,
      "outputs": []
    },
    {
      "cell_type": "code",
      "source": [
        "nb_model = GaussianNB()\n",
        "nb_model = nb_model.fit(X_train, y_train)"
      ],
      "metadata": {
        "id": "WEqk2s7Ul9m4"
      },
      "execution_count": null,
      "outputs": []
    },
    {
      "cell_type": "code",
      "source": [
        "y_pred = nb_model.predict(X_test)"
      ],
      "metadata": {
        "id": "dTx_pgVsnOQk"
      },
      "execution_count": null,
      "outputs": []
    },
    {
      "cell_type": "code",
      "source": [
        "print(classification_report(y_test,y_pred))"
      ],
      "metadata": {
        "colab": {
          "base_uri": "https://localhost:8080/"
        },
        "id": "N2zvu0bEnj9B",
        "outputId": "d92c1136-9f37-419f-a7f3-a0ea4fb79d3b"
      },
      "execution_count": null,
      "outputs": [
        {
          "output_type": "stream",
          "name": "stdout",
          "text": [
            "              precision    recall  f1-score   support\n",
            "\n",
            "           0       0.66      0.41      0.51      1304\n",
            "           1       0.74      0.89      0.81      2500\n",
            "\n",
            "    accuracy                           0.73      3804\n",
            "   macro avg       0.70      0.65      0.66      3804\n",
            "weighted avg       0.72      0.73      0.71      3804\n",
            "\n"
          ]
        }
      ]
    },
    {
      "cell_type": "markdown",
      "source": [
        "### Logistic Regression\n",
        "- used only in binary classification.\n",
        "- goal of logistic regression is to model the relationship between the independent variables (features) and the probability of a particular outcome occurring.\n",
        "\n",
        "####components\n",
        "1. logistic function (Sigmoid function) P(y=1)= 1 /(1+ e^-(b0 + b1x1 + --- + bnxn))\n",
        "\n",
        "P(y=1) -> probability of event y to happen.\n",
        "\n",
        "b0, b1, b2,--,bn -> coefficients - refers to the weights assigned to the inputs\n",
        "- represents weights assigned to input features.\n",
        "- helps in finding the relationship between the input feature and the particular outcome.\n",
        "x0, x1, x2,...., xn -> independent variables.\n",
        "\n",
        "2. linear combinations = the term b0 + b1x1 + --- + bnxn is linear combination of coefficients and independent variables.\n",
        "3. log odds = it converts the logistic function to log odds (or logit function). log odd are natural logarithm of the odds, where odds are the ratio of the probability of success to the probability of failure.\n",
        "\n",
        "reasons to covert logistic function into log =-odds function -\n",
        "- logistic function output lies between 0 to 1. By converting it output becomes linear function of input function. gives more interpretable scale.  \n",
        "- easy to calculate MLE after converting it into in log-odd function.\n",
        "\n",
        "formula = log-odds = ln(P(y=1)/(1-P(y=1))) = b0 + b1x1 + --- + bnxn\n",
        "\n",
        "4. maximum likelihood estimation(MLE) = coefficient b0, b1, b2...., bn are estimated using MLE function. maximize the likelihood of the observed data given the model.\n",
        "5. Decision boundary = used to classify observations into one or two classes.\n"
      ],
      "metadata": {
        "id": "FIU-gxr5PoaT"
      }
    },
    {
      "cell_type": "markdown",
      "source": [
        "- if we have single input feature (x0) - k/a simple logistic regression.\n",
        "- if we have multiple input feature (x0, x1, x2..., xn) - k/a multiple logistic regresion.\n"
      ],
      "metadata": {
        "id": "Ukxf5Gx-bO7T"
      }
    },
    {
      "cell_type": "code",
      "source": [
        "## importing\n",
        "from sklearn.linear_model import LogisticRegression"
      ],
      "metadata": {
        "id": "H3xDcf45nu0F"
      },
      "execution_count": null,
      "outputs": []
    },
    {
      "cell_type": "code",
      "source": [
        "lg_model = LogisticRegression()\n",
        "lg_model = lg_model.fit(X_train, y_train) ## have different parameters acan change accordingingly\n"
      ],
      "metadata": {
        "id": "85zc-uqvbvvC"
      },
      "execution_count": null,
      "outputs": []
    },
    {
      "cell_type": "code",
      "source": [
        "y_pred = lg_model.predict(X_test)\n",
        "print(classification_report(y_test, y_pred))"
      ],
      "metadata": {
        "colab": {
          "base_uri": "https://localhost:8080/"
        },
        "id": "Ax2XPrlicNMq",
        "outputId": "0ab82e4d-d747-4ae7-f15f-ff669120c621"
      },
      "execution_count": null,
      "outputs": [
        {
          "output_type": "stream",
          "name": "stdout",
          "text": [
            "              precision    recall  f1-score   support\n",
            "\n",
            "           0       0.67      0.72      0.70      1304\n",
            "           1       0.85      0.81      0.83      2500\n",
            "\n",
            "    accuracy                           0.78      3804\n",
            "   macro avg       0.76      0.77      0.76      3804\n",
            "weighted avg       0.79      0.78      0.79      3804\n",
            "\n"
          ]
        }
      ]
    },
    {
      "cell_type": "code",
      "source": [],
      "metadata": {
        "id": "LobLcJItcbkj"
      },
      "execution_count": null,
      "outputs": []
    },
    {
      "cell_type": "markdown",
      "source": [
        "### Support Vector Machine (SVM)\n",
        "- supervised\n",
        "- used in image classification, text classification, and bioinformatics.\n",
        "- in svm our goal is find the best hyperplane(in 2d plane = line, in 3d plane = plane. There for collective k/a hyperplane) that separates the data into different classes.\n",
        "- hyperplane is decision boundary. Choosen in such a way to maximize the margins.\n",
        "- MARGINS = distance between the hyperlane and the nearest data points of the class. Model finds the hyperplane and maximize the margins as it increase the accuracy/data prediction for unseen data.\n",
        "\n",
        "By maximizing the margins SVM model tries to find the hyperplane that is\n",
        "farthest from the nearest data point. by doing this model is less influenced or effectd by the outliners.\n",
        "\n",
        "reduces to overfitting(model learns the training data too well, including its noise and outliers, but fails to generalize to new data.)\n",
        "\n",
        "- suppot vectors = data points closest to hyperplane. Influence the position and orientation of the hyperplane.\n",
        "- kernel trick = helps in to handel non linear hyperplane. Converts the input feature into higher dimension helps to find a perfect/linear hyperplane.\n",
        "\n",
        "working of kernal trick-\n",
        "\n",
        "uses kernal functions(mathmatical model) to transform data points into high dimension. It computes the simalarity between the original feature space and high dimensional space. Can use funcion ->  linear, polynomial, radial basis function (RBF), and sigmoid kernels.\n",
        "\n",
        "- SVM can be used for both classification and regression tasks. For classification, SVM aims to separate data into different classes, while for regression, it aims to predict a continuous output.\n",
        "\n",
        "- soft margins = In some cases, the data may not be perfectly separable by a hyperplane. In such situations, SVM allows for some misclassification through the use of a soft margin, which is a margin that allows for some data points to fall on the wrong side of the decision boundary.\n",
        "\n"
      ],
      "metadata": {
        "id": "tmyhpWpXntAc"
      }
    },
    {
      "cell_type": "code",
      "source": [
        "from sklearn.svm import SVC ## support vector classifier"
      ],
      "metadata": {
        "id": "l6pp0XpvRcJA"
      },
      "execution_count": null,
      "outputs": []
    },
    {
      "cell_type": "code",
      "source": [
        "svm_model = SVC()\n",
        "svm_model = svm_model.fit(X_train, y_train)"
      ],
      "metadata": {
        "id": "RZv98ieQVvx_"
      },
      "execution_count": null,
      "outputs": []
    },
    {
      "cell_type": "code",
      "source": [
        "y_pred = svm_model.predict(X_test)\n",
        "print(classification_report(y_test, y_pred))"
      ],
      "metadata": {
        "colab": {
          "base_uri": "https://localhost:8080/"
        },
        "id": "b22OC-1kV7ov",
        "outputId": "bab399d1-436a-4c34-8a8a-bdaa078bf3da"
      },
      "execution_count": null,
      "outputs": [
        {
          "output_type": "stream",
          "name": "stdout",
          "text": [
            "              precision    recall  f1-score   support\n",
            "\n",
            "           0       0.78      0.82      0.80      1304\n",
            "           1       0.90      0.88      0.89      2500\n",
            "\n",
            "    accuracy                           0.86      3804\n",
            "   macro avg       0.84      0.85      0.85      3804\n",
            "weighted avg       0.86      0.86      0.86      3804\n",
            "\n"
          ]
        }
      ]
    },
    {
      "cell_type": "code",
      "source": [],
      "metadata": {
        "id": "VpHJCA_gWcG7"
      },
      "execution_count": null,
      "outputs": []
    },
    {
      "cell_type": "markdown",
      "source": [
        "### Neural Networks\n",
        "- used in pattern recognition, image and speech recognition, natural language processing\n",
        "- layers -: 1. input layes -> feature matrix is passed via input layer.\n",
        "\n",
        "2. Hidden layer -> present b/w i/p and o/p layer. Each node in hidden layer(sometime in output layer also) is associated with a **activation function**. Activation functions introduce non-linearity, allowing the neural network to learn complex relationships in the data. Common activation functions include sigmoid, hyperbolic tangent (tanh), and rectified linear unit (ReLU).\n",
        "\n",
        "3. Output layer -> produces output/final results.\n",
        "- No. of nodes in output layer depends on the nature of task :- eg for **binary classification** there is 1 node with sigmoid activation function. For **multi class classification** there are multiple node usually 1 for each class with softmax activation funtion. In **regression** a single node with linear activation function.\n",
        "\n",
        "Q) Why activation function is important??\n",
        "Without activation function a neural network model is a simple linear model. Which can be achived using any model or some mathmatical formula.\n",
        "\n",
        "Disadvantages of linear model ->\n",
        "1. Not able detect complex patterns -: As linear model can only detect the data having linear relationship and it's not possible everytime to find data having linear relationship.\n",
        "2. Limited Expressiveness\n",
        "3. Vanishing Gradient Problem - In deep learning backpropagation is done to reduce the gradients and make model more compatible. Which cannot be happen in linear model.\n",
        "- (gardient = actual val - predicted val--> calculus involved -- used to reduce the loss)\n",
        "\n",
        "Hyperparameters -> Neural networks have various hyperparameters, such as learning rate, batch size, and architecture-related parameters, which need to be tuned for optimal performance.\n",
        "\n",
        "\n",
        "\n"
      ],
      "metadata": {
        "id": "t01R82rRgW8t"
      }
    },
    {
      "cell_type": "markdown",
      "source": [
        "### TenserFlow\n",
        "- open source lib developed by google.\n",
        "- used for deep learning (neural network)\n",
        "- TensorFlow provides high-level APIs, such as Keras (integrated into TensorFlow as tf.keras), to simplify the process of building and training neural networks. Keras offers a user-friendly interface for defining models, layers, and training procedures."
      ],
      "metadata": {
        "id": "3RiEM2d7mPia"
      }
    },
    {
      "cell_type": "code",
      "source": [
        "import tns\n"
      ],
      "metadata": {
        "id": "m0qD6IgBeuO7"
      },
      "execution_count": null,
      "outputs": []
    }
  ]
}